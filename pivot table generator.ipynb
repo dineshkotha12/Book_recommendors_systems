{
 "cells": [
  {
   "cell_type": "code",
   "execution_count": 1,
   "id": "a15aeb60",
   "metadata": {},
   "outputs": [],
   "source": [
    "import pandas as pd\n",
    "import numpy as np\n",
    "import seaborn as sns\n",
    "import matplotlib.pyplot as plt"
   ]
  },
  {
   "cell_type": "code",
   "execution_count": 2,
   "id": "016e4325",
   "metadata": {},
   "outputs": [
    {
     "data": {
      "text/html": [
       "<div>\n",
       "<style scoped>\n",
       "    .dataframe tbody tr th:only-of-type {\n",
       "        vertical-align: middle;\n",
       "    }\n",
       "\n",
       "    .dataframe tbody tr th {\n",
       "        vertical-align: top;\n",
       "    }\n",
       "\n",
       "    .dataframe thead th {\n",
       "        text-align: right;\n",
       "    }\n",
       "</style>\n",
       "<table border=\"1\" class=\"dataframe\">\n",
       "  <thead>\n",
       "    <tr style=\"text-align: right;\">\n",
       "      <th></th>\n",
       "      <th>User-ID</th>\n",
       "      <th>Location</th>\n",
       "      <th>Age</th>\n",
       "    </tr>\n",
       "  </thead>\n",
       "  <tbody>\n",
       "    <tr>\n",
       "      <th>0</th>\n",
       "      <td>1</td>\n",
       "      <td>nyc, new york, usa</td>\n",
       "      <td>NaN</td>\n",
       "    </tr>\n",
       "    <tr>\n",
       "      <th>1</th>\n",
       "      <td>2</td>\n",
       "      <td>stockton, california, usa</td>\n",
       "      <td>18.0</td>\n",
       "    </tr>\n",
       "    <tr>\n",
       "      <th>2</th>\n",
       "      <td>3</td>\n",
       "      <td>moscow, yukon territory, russia</td>\n",
       "      <td>NaN</td>\n",
       "    </tr>\n",
       "    <tr>\n",
       "      <th>3</th>\n",
       "      <td>4</td>\n",
       "      <td>porto, v.n.gaia, portugal</td>\n",
       "      <td>17.0</td>\n",
       "    </tr>\n",
       "    <tr>\n",
       "      <th>4</th>\n",
       "      <td>5</td>\n",
       "      <td>farnborough, hants, united kingdom</td>\n",
       "      <td>NaN</td>\n",
       "    </tr>\n",
       "  </tbody>\n",
       "</table>\n",
       "</div>"
      ],
      "text/plain": [
       "   User-ID                            Location   Age\n",
       "0        1                  nyc, new york, usa   NaN\n",
       "1        2           stockton, california, usa  18.0\n",
       "2        3     moscow, yukon territory, russia   NaN\n",
       "3        4           porto, v.n.gaia, portugal  17.0\n",
       "4        5  farnborough, hants, united kingdom   NaN"
      ]
     },
     "execution_count": 2,
     "metadata": {},
     "output_type": "execute_result"
    }
   ],
   "source": [
    "users=pd.read_csv('Users.csv',encoding='latin1')\n",
    "users.head()"
   ]
  },
  {
   "cell_type": "code",
   "execution_count": 4,
   "id": "9f18015b",
   "metadata": {},
   "outputs": [
    {
     "data": {
      "text/html": [
       "<div>\n",
       "<style scoped>\n",
       "    .dataframe tbody tr th:only-of-type {\n",
       "        vertical-align: middle;\n",
       "    }\n",
       "\n",
       "    .dataframe tbody tr th {\n",
       "        vertical-align: top;\n",
       "    }\n",
       "\n",
       "    .dataframe thead th {\n",
       "        text-align: right;\n",
       "    }\n",
       "</style>\n",
       "<table border=\"1\" class=\"dataframe\">\n",
       "  <thead>\n",
       "    <tr style=\"text-align: right;\">\n",
       "      <th></th>\n",
       "      <th>ISBN</th>\n",
       "      <th>Book-Title</th>\n",
       "      <th>Book-Author</th>\n",
       "      <th>Year-Of-Publication</th>\n",
       "      <th>Publisher</th>\n",
       "      <th>Image-URL-S</th>\n",
       "      <th>Image-URL-M</th>\n",
       "      <th>Image-URL-L</th>\n",
       "    </tr>\n",
       "  </thead>\n",
       "  <tbody>\n",
       "    <tr>\n",
       "      <th>0</th>\n",
       "      <td>0195153448</td>\n",
       "      <td>Classical Mythology</td>\n",
       "      <td>Mark P. O. Morford</td>\n",
       "      <td>2002</td>\n",
       "      <td>Oxford University Press</td>\n",
       "      <td>http://images.amazon.com/images/P/0195153448.0...</td>\n",
       "      <td>http://images.amazon.com/images/P/0195153448.0...</td>\n",
       "      <td>http://images.amazon.com/images/P/0195153448.0...</td>\n",
       "    </tr>\n",
       "    <tr>\n",
       "      <th>1</th>\n",
       "      <td>0002005018</td>\n",
       "      <td>Clara Callan</td>\n",
       "      <td>Richard Bruce Wright</td>\n",
       "      <td>2001</td>\n",
       "      <td>HarperFlamingo Canada</td>\n",
       "      <td>http://images.amazon.com/images/P/0002005018.0...</td>\n",
       "      <td>http://images.amazon.com/images/P/0002005018.0...</td>\n",
       "      <td>http://images.amazon.com/images/P/0002005018.0...</td>\n",
       "    </tr>\n",
       "    <tr>\n",
       "      <th>2</th>\n",
       "      <td>0060973129</td>\n",
       "      <td>Decision in Normandy</td>\n",
       "      <td>Carlo D'Este</td>\n",
       "      <td>1991</td>\n",
       "      <td>HarperPerennial</td>\n",
       "      <td>http://images.amazon.com/images/P/0060973129.0...</td>\n",
       "      <td>http://images.amazon.com/images/P/0060973129.0...</td>\n",
       "      <td>http://images.amazon.com/images/P/0060973129.0...</td>\n",
       "    </tr>\n",
       "    <tr>\n",
       "      <th>3</th>\n",
       "      <td>0374157065</td>\n",
       "      <td>Flu: The Story of the Great Influenza Pandemic...</td>\n",
       "      <td>Gina Bari Kolata</td>\n",
       "      <td>1999</td>\n",
       "      <td>Farrar Straus Giroux</td>\n",
       "      <td>http://images.amazon.com/images/P/0374157065.0...</td>\n",
       "      <td>http://images.amazon.com/images/P/0374157065.0...</td>\n",
       "      <td>http://images.amazon.com/images/P/0374157065.0...</td>\n",
       "    </tr>\n",
       "    <tr>\n",
       "      <th>4</th>\n",
       "      <td>0393045218</td>\n",
       "      <td>The Mummies of Urumchi</td>\n",
       "      <td>E. J. W. Barber</td>\n",
       "      <td>1999</td>\n",
       "      <td>W. W. Norton &amp;amp; Company</td>\n",
       "      <td>http://images.amazon.com/images/P/0393045218.0...</td>\n",
       "      <td>http://images.amazon.com/images/P/0393045218.0...</td>\n",
       "      <td>http://images.amazon.com/images/P/0393045218.0...</td>\n",
       "    </tr>\n",
       "  </tbody>\n",
       "</table>\n",
       "</div>"
      ],
      "text/plain": [
       "         ISBN                                         Book-Title  \\\n",
       "0  0195153448                                Classical Mythology   \n",
       "1  0002005018                                       Clara Callan   \n",
       "2  0060973129                               Decision in Normandy   \n",
       "3  0374157065  Flu: The Story of the Great Influenza Pandemic...   \n",
       "4  0393045218                             The Mummies of Urumchi   \n",
       "\n",
       "            Book-Author Year-Of-Publication                   Publisher  \\\n",
       "0    Mark P. O. Morford                2002     Oxford University Press   \n",
       "1  Richard Bruce Wright                2001       HarperFlamingo Canada   \n",
       "2          Carlo D'Este                1991             HarperPerennial   \n",
       "3      Gina Bari Kolata                1999        Farrar Straus Giroux   \n",
       "4       E. J. W. Barber                1999  W. W. Norton &amp; Company   \n",
       "\n",
       "                                         Image-URL-S  \\\n",
       "0  http://images.amazon.com/images/P/0195153448.0...   \n",
       "1  http://images.amazon.com/images/P/0002005018.0...   \n",
       "2  http://images.amazon.com/images/P/0060973129.0...   \n",
       "3  http://images.amazon.com/images/P/0374157065.0...   \n",
       "4  http://images.amazon.com/images/P/0393045218.0...   \n",
       "\n",
       "                                         Image-URL-M  \\\n",
       "0  http://images.amazon.com/images/P/0195153448.0...   \n",
       "1  http://images.amazon.com/images/P/0002005018.0...   \n",
       "2  http://images.amazon.com/images/P/0060973129.0...   \n",
       "3  http://images.amazon.com/images/P/0374157065.0...   \n",
       "4  http://images.amazon.com/images/P/0393045218.0...   \n",
       "\n",
       "                                         Image-URL-L  \n",
       "0  http://images.amazon.com/images/P/0195153448.0...  \n",
       "1  http://images.amazon.com/images/P/0002005018.0...  \n",
       "2  http://images.amazon.com/images/P/0060973129.0...  \n",
       "3  http://images.amazon.com/images/P/0374157065.0...  \n",
       "4  http://images.amazon.com/images/P/0393045218.0...  "
      ]
     },
     "execution_count": 4,
     "metadata": {},
     "output_type": "execute_result"
    }
   ],
   "source": [
    "books=pd.read_csv('Books.csv',encoding='ISO-8859-1',low_memory=False)\n",
    "books.head()\n"
   ]
  },
  {
   "cell_type": "code",
   "execution_count": 5,
   "id": "33c70918",
   "metadata": {},
   "outputs": [
    {
     "data": {
      "text/html": [
       "<div>\n",
       "<style scoped>\n",
       "    .dataframe tbody tr th:only-of-type {\n",
       "        vertical-align: middle;\n",
       "    }\n",
       "\n",
       "    .dataframe tbody tr th {\n",
       "        vertical-align: top;\n",
       "    }\n",
       "\n",
       "    .dataframe thead th {\n",
       "        text-align: right;\n",
       "    }\n",
       "</style>\n",
       "<table border=\"1\" class=\"dataframe\">\n",
       "  <thead>\n",
       "    <tr style=\"text-align: right;\">\n",
       "      <th></th>\n",
       "      <th>User-ID</th>\n",
       "      <th>ISBN</th>\n",
       "      <th>Book-Rating</th>\n",
       "    </tr>\n",
       "  </thead>\n",
       "  <tbody>\n",
       "    <tr>\n",
       "      <th>0</th>\n",
       "      <td>276725</td>\n",
       "      <td>034545104X</td>\n",
       "      <td>0</td>\n",
       "    </tr>\n",
       "    <tr>\n",
       "      <th>1</th>\n",
       "      <td>276726</td>\n",
       "      <td>0155061224</td>\n",
       "      <td>5</td>\n",
       "    </tr>\n",
       "    <tr>\n",
       "      <th>2</th>\n",
       "      <td>276727</td>\n",
       "      <td>0446520802</td>\n",
       "      <td>0</td>\n",
       "    </tr>\n",
       "    <tr>\n",
       "      <th>3</th>\n",
       "      <td>276729</td>\n",
       "      <td>052165615X</td>\n",
       "      <td>3</td>\n",
       "    </tr>\n",
       "    <tr>\n",
       "      <th>4</th>\n",
       "      <td>276729</td>\n",
       "      <td>0521795028</td>\n",
       "      <td>6</td>\n",
       "    </tr>\n",
       "  </tbody>\n",
       "</table>\n",
       "</div>"
      ],
      "text/plain": [
       "   User-ID        ISBN  Book-Rating\n",
       "0   276725  034545104X            0\n",
       "1   276726  0155061224            5\n",
       "2   276727  0446520802            0\n",
       "3   276729  052165615X            3\n",
       "4   276729  0521795028            6"
      ]
     },
     "execution_count": 5,
     "metadata": {},
     "output_type": "execute_result"
    }
   ],
   "source": [
    "ratings = pd.read_csv('Ratings.csv', encoding='latin1')\n",
    "ratings.head()"
   ]
  },
  {
   "cell_type": "code",
   "execution_count": 6,
   "id": "1517ece3",
   "metadata": {},
   "outputs": [
    {
     "data": {
      "text/plain": [
       "(278858, 3)"
      ]
     },
     "execution_count": 6,
     "metadata": {},
     "output_type": "execute_result"
    }
   ],
   "source": [
    "users.shape"
   ]
  },
  {
   "cell_type": "code",
   "execution_count": 7,
   "id": "bc607ce9",
   "metadata": {},
   "outputs": [
    {
     "data": {
      "text/plain": [
       "(271360, 8)"
      ]
     },
     "execution_count": 7,
     "metadata": {},
     "output_type": "execute_result"
    }
   ],
   "source": [
    "books.shape"
   ]
  },
  {
   "cell_type": "code",
   "execution_count": 8,
   "id": "02414ba1",
   "metadata": {},
   "outputs": [
    {
     "data": {
      "text/plain": [
       "(1149780, 3)"
      ]
     },
     "execution_count": 8,
     "metadata": {},
     "output_type": "execute_result"
    }
   ],
   "source": [
    "ratings.shape"
   ]
  },
  {
   "cell_type": "code",
   "execution_count": 9,
   "id": "0b5a8701",
   "metadata": {},
   "outputs": [
    {
     "data": {
      "text/plain": [
       "0"
      ]
     },
     "execution_count": 9,
     "metadata": {},
     "output_type": "execute_result"
    }
   ],
   "source": [
    "users.duplicated().sum()"
   ]
  },
  {
   "cell_type": "code",
   "execution_count": 10,
   "id": "28f14845",
   "metadata": {},
   "outputs": [
    {
     "data": {
      "text/plain": [
       "0"
      ]
     },
     "execution_count": 10,
     "metadata": {},
     "output_type": "execute_result"
    }
   ],
   "source": [
    "books.duplicated().sum()"
   ]
  },
  {
   "cell_type": "code",
   "execution_count": 11,
   "id": "769b93ae",
   "metadata": {},
   "outputs": [
    {
     "data": {
      "text/plain": [
       "0"
      ]
     },
     "execution_count": 11,
     "metadata": {},
     "output_type": "execute_result"
    }
   ],
   "source": [
    "ratings.duplicated().sum()"
   ]
  },
  {
   "cell_type": "code",
   "execution_count": 12,
   "id": "ffc7eea3",
   "metadata": {},
   "outputs": [],
   "source": [
    "def unique_values(dataset):\n",
    "    list_unique_valeus = [dataset[col].nunique() for col in dataset.columns]\n",
    "    list_cols = dataset.columns.tolist()\n",
    "    data = list(zip(list_cols,list_unique_valeus))\n",
    "    df = pd.DataFrame(data,columns = ['Column','No of Unique Values'])\n",
    "    return df"
   ]
  },
  {
   "cell_type": "code",
   "execution_count": 13,
   "id": "af2a9e86",
   "metadata": {},
   "outputs": [
    {
     "data": {
      "text/html": [
       "<div>\n",
       "<style scoped>\n",
       "    .dataframe tbody tr th:only-of-type {\n",
       "        vertical-align: middle;\n",
       "    }\n",
       "\n",
       "    .dataframe tbody tr th {\n",
       "        vertical-align: top;\n",
       "    }\n",
       "\n",
       "    .dataframe thead th {\n",
       "        text-align: right;\n",
       "    }\n",
       "</style>\n",
       "<table border=\"1\" class=\"dataframe\">\n",
       "  <thead>\n",
       "    <tr style=\"text-align: right;\">\n",
       "      <th></th>\n",
       "      <th>Column</th>\n",
       "      <th>No of Unique Values</th>\n",
       "    </tr>\n",
       "  </thead>\n",
       "  <tbody>\n",
       "    <tr>\n",
       "      <th>0</th>\n",
       "      <td>User-ID</td>\n",
       "      <td>278858</td>\n",
       "    </tr>\n",
       "    <tr>\n",
       "      <th>1</th>\n",
       "      <td>Location</td>\n",
       "      <td>57339</td>\n",
       "    </tr>\n",
       "    <tr>\n",
       "      <th>2</th>\n",
       "      <td>Age</td>\n",
       "      <td>165</td>\n",
       "    </tr>\n",
       "  </tbody>\n",
       "</table>\n",
       "</div>"
      ],
      "text/plain": [
       "     Column  No of Unique Values\n",
       "0   User-ID               278858\n",
       "1  Location                57339\n",
       "2       Age                  165"
      ]
     },
     "execution_count": 13,
     "metadata": {},
     "output_type": "execute_result"
    }
   ],
   "source": [
    "unique_values(users)"
   ]
  },
  {
   "cell_type": "code",
   "execution_count": 14,
   "id": "73086a1f",
   "metadata": {},
   "outputs": [
    {
     "data": {
      "text/html": [
       "<div>\n",
       "<style scoped>\n",
       "    .dataframe tbody tr th:only-of-type {\n",
       "        vertical-align: middle;\n",
       "    }\n",
       "\n",
       "    .dataframe tbody tr th {\n",
       "        vertical-align: top;\n",
       "    }\n",
       "\n",
       "    .dataframe thead th {\n",
       "        text-align: right;\n",
       "    }\n",
       "</style>\n",
       "<table border=\"1\" class=\"dataframe\">\n",
       "  <thead>\n",
       "    <tr style=\"text-align: right;\">\n",
       "      <th></th>\n",
       "      <th>Column</th>\n",
       "      <th>No of Unique Values</th>\n",
       "    </tr>\n",
       "  </thead>\n",
       "  <tbody>\n",
       "    <tr>\n",
       "      <th>0</th>\n",
       "      <td>User-ID</td>\n",
       "      <td>105283</td>\n",
       "    </tr>\n",
       "    <tr>\n",
       "      <th>1</th>\n",
       "      <td>ISBN</td>\n",
       "      <td>340556</td>\n",
       "    </tr>\n",
       "    <tr>\n",
       "      <th>2</th>\n",
       "      <td>Book-Rating</td>\n",
       "      <td>11</td>\n",
       "    </tr>\n",
       "  </tbody>\n",
       "</table>\n",
       "</div>"
      ],
      "text/plain": [
       "        Column  No of Unique Values\n",
       "0      User-ID               105283\n",
       "1         ISBN               340556\n",
       "2  Book-Rating                   11"
      ]
     },
     "execution_count": 14,
     "metadata": {},
     "output_type": "execute_result"
    }
   ],
   "source": [
    "unique_values(ratings)"
   ]
  },
  {
   "cell_type": "code",
   "execution_count": 15,
   "id": "3e35aa3a",
   "metadata": {},
   "outputs": [
    {
     "data": {
      "text/html": [
       "<div>\n",
       "<style scoped>\n",
       "    .dataframe tbody tr th:only-of-type {\n",
       "        vertical-align: middle;\n",
       "    }\n",
       "\n",
       "    .dataframe tbody tr th {\n",
       "        vertical-align: top;\n",
       "    }\n",
       "\n",
       "    .dataframe thead th {\n",
       "        text-align: right;\n",
       "    }\n",
       "</style>\n",
       "<table border=\"1\" class=\"dataframe\">\n",
       "  <thead>\n",
       "    <tr style=\"text-align: right;\">\n",
       "      <th></th>\n",
       "      <th>Column</th>\n",
       "      <th>No of Unique Values</th>\n",
       "    </tr>\n",
       "  </thead>\n",
       "  <tbody>\n",
       "    <tr>\n",
       "      <th>0</th>\n",
       "      <td>ISBN</td>\n",
       "      <td>271360</td>\n",
       "    </tr>\n",
       "    <tr>\n",
       "      <th>1</th>\n",
       "      <td>Book-Title</td>\n",
       "      <td>242135</td>\n",
       "    </tr>\n",
       "    <tr>\n",
       "      <th>2</th>\n",
       "      <td>Book-Author</td>\n",
       "      <td>102022</td>\n",
       "    </tr>\n",
       "    <tr>\n",
       "      <th>3</th>\n",
       "      <td>Year-Of-Publication</td>\n",
       "      <td>118</td>\n",
       "    </tr>\n",
       "    <tr>\n",
       "      <th>4</th>\n",
       "      <td>Publisher</td>\n",
       "      <td>16807</td>\n",
       "    </tr>\n",
       "    <tr>\n",
       "      <th>5</th>\n",
       "      <td>Image-URL-S</td>\n",
       "      <td>271044</td>\n",
       "    </tr>\n",
       "    <tr>\n",
       "      <th>6</th>\n",
       "      <td>Image-URL-M</td>\n",
       "      <td>271044</td>\n",
       "    </tr>\n",
       "    <tr>\n",
       "      <th>7</th>\n",
       "      <td>Image-URL-L</td>\n",
       "      <td>271041</td>\n",
       "    </tr>\n",
       "  </tbody>\n",
       "</table>\n",
       "</div>"
      ],
      "text/plain": [
       "                Column  No of Unique Values\n",
       "0                 ISBN               271360\n",
       "1           Book-Title               242135\n",
       "2          Book-Author               102022\n",
       "3  Year-Of-Publication                  118\n",
       "4            Publisher                16807\n",
       "5          Image-URL-S               271044\n",
       "6          Image-URL-M               271044\n",
       "7          Image-URL-L               271041"
      ]
     },
     "execution_count": 15,
     "metadata": {},
     "output_type": "execute_result"
    }
   ],
   "source": [
    "unique_values(books)"
   ]
  },
  {
   "cell_type": "code",
   "execution_count": 16,
   "id": "338cb970",
   "metadata": {},
   "outputs": [],
   "source": [
    "merged_df=pd.merge(users,ratings,on='User-ID')\n",
    "merged_df=pd.merge(merged_df,books,on='ISBN')"
   ]
  },
  {
   "cell_type": "code",
   "execution_count": 17,
   "id": "959e2fb7",
   "metadata": {},
   "outputs": [
    {
     "data": {
      "text/html": [
       "<div>\n",
       "<style scoped>\n",
       "    .dataframe tbody tr th:only-of-type {\n",
       "        vertical-align: middle;\n",
       "    }\n",
       "\n",
       "    .dataframe tbody tr th {\n",
       "        vertical-align: top;\n",
       "    }\n",
       "\n",
       "    .dataframe thead th {\n",
       "        text-align: right;\n",
       "    }\n",
       "</style>\n",
       "<table border=\"1\" class=\"dataframe\">\n",
       "  <thead>\n",
       "    <tr style=\"text-align: right;\">\n",
       "      <th></th>\n",
       "      <th>User-ID</th>\n",
       "      <th>Location</th>\n",
       "      <th>Age</th>\n",
       "      <th>ISBN</th>\n",
       "      <th>Book-Rating</th>\n",
       "      <th>Book-Title</th>\n",
       "      <th>Book-Author</th>\n",
       "      <th>Year-Of-Publication</th>\n",
       "      <th>Publisher</th>\n",
       "      <th>Image-URL-S</th>\n",
       "      <th>Image-URL-M</th>\n",
       "      <th>Image-URL-L</th>\n",
       "    </tr>\n",
       "  </thead>\n",
       "  <tbody>\n",
       "    <tr>\n",
       "      <th>0</th>\n",
       "      <td>2</td>\n",
       "      <td>stockton, california, usa</td>\n",
       "      <td>18.0</td>\n",
       "      <td>0195153448</td>\n",
       "      <td>0</td>\n",
       "      <td>Classical Mythology</td>\n",
       "      <td>Mark P. O. Morford</td>\n",
       "      <td>2002</td>\n",
       "      <td>Oxford University Press</td>\n",
       "      <td>http://images.amazon.com/images/P/0195153448.0...</td>\n",
       "      <td>http://images.amazon.com/images/P/0195153448.0...</td>\n",
       "      <td>http://images.amazon.com/images/P/0195153448.0...</td>\n",
       "    </tr>\n",
       "    <tr>\n",
       "      <th>1</th>\n",
       "      <td>8</td>\n",
       "      <td>timmins, ontario, canada</td>\n",
       "      <td>NaN</td>\n",
       "      <td>0002005018</td>\n",
       "      <td>5</td>\n",
       "      <td>Clara Callan</td>\n",
       "      <td>Richard Bruce Wright</td>\n",
       "      <td>2001</td>\n",
       "      <td>HarperFlamingo Canada</td>\n",
       "      <td>http://images.amazon.com/images/P/0002005018.0...</td>\n",
       "      <td>http://images.amazon.com/images/P/0002005018.0...</td>\n",
       "      <td>http://images.amazon.com/images/P/0002005018.0...</td>\n",
       "    </tr>\n",
       "    <tr>\n",
       "      <th>2</th>\n",
       "      <td>11400</td>\n",
       "      <td>ottawa, ontario, canada</td>\n",
       "      <td>49.0</td>\n",
       "      <td>0002005018</td>\n",
       "      <td>0</td>\n",
       "      <td>Clara Callan</td>\n",
       "      <td>Richard Bruce Wright</td>\n",
       "      <td>2001</td>\n",
       "      <td>HarperFlamingo Canada</td>\n",
       "      <td>http://images.amazon.com/images/P/0002005018.0...</td>\n",
       "      <td>http://images.amazon.com/images/P/0002005018.0...</td>\n",
       "      <td>http://images.amazon.com/images/P/0002005018.0...</td>\n",
       "    </tr>\n",
       "    <tr>\n",
       "      <th>3</th>\n",
       "      <td>11676</td>\n",
       "      <td>n/a, n/a, n/a</td>\n",
       "      <td>NaN</td>\n",
       "      <td>0002005018</td>\n",
       "      <td>8</td>\n",
       "      <td>Clara Callan</td>\n",
       "      <td>Richard Bruce Wright</td>\n",
       "      <td>2001</td>\n",
       "      <td>HarperFlamingo Canada</td>\n",
       "      <td>http://images.amazon.com/images/P/0002005018.0...</td>\n",
       "      <td>http://images.amazon.com/images/P/0002005018.0...</td>\n",
       "      <td>http://images.amazon.com/images/P/0002005018.0...</td>\n",
       "    </tr>\n",
       "    <tr>\n",
       "      <th>4</th>\n",
       "      <td>41385</td>\n",
       "      <td>sudbury, ontario, canada</td>\n",
       "      <td>NaN</td>\n",
       "      <td>0002005018</td>\n",
       "      <td>0</td>\n",
       "      <td>Clara Callan</td>\n",
       "      <td>Richard Bruce Wright</td>\n",
       "      <td>2001</td>\n",
       "      <td>HarperFlamingo Canada</td>\n",
       "      <td>http://images.amazon.com/images/P/0002005018.0...</td>\n",
       "      <td>http://images.amazon.com/images/P/0002005018.0...</td>\n",
       "      <td>http://images.amazon.com/images/P/0002005018.0...</td>\n",
       "    </tr>\n",
       "  </tbody>\n",
       "</table>\n",
       "</div>"
      ],
      "text/plain": [
       "   User-ID                   Location   Age        ISBN  Book-Rating  \\\n",
       "0        2  stockton, california, usa  18.0  0195153448            0   \n",
       "1        8   timmins, ontario, canada   NaN  0002005018            5   \n",
       "2    11400    ottawa, ontario, canada  49.0  0002005018            0   \n",
       "3    11676              n/a, n/a, n/a   NaN  0002005018            8   \n",
       "4    41385   sudbury, ontario, canada   NaN  0002005018            0   \n",
       "\n",
       "            Book-Title           Book-Author Year-Of-Publication  \\\n",
       "0  Classical Mythology    Mark P. O. Morford                2002   \n",
       "1         Clara Callan  Richard Bruce Wright                2001   \n",
       "2         Clara Callan  Richard Bruce Wright                2001   \n",
       "3         Clara Callan  Richard Bruce Wright                2001   \n",
       "4         Clara Callan  Richard Bruce Wright                2001   \n",
       "\n",
       "                 Publisher                                        Image-URL-S  \\\n",
       "0  Oxford University Press  http://images.amazon.com/images/P/0195153448.0...   \n",
       "1    HarperFlamingo Canada  http://images.amazon.com/images/P/0002005018.0...   \n",
       "2    HarperFlamingo Canada  http://images.amazon.com/images/P/0002005018.0...   \n",
       "3    HarperFlamingo Canada  http://images.amazon.com/images/P/0002005018.0...   \n",
       "4    HarperFlamingo Canada  http://images.amazon.com/images/P/0002005018.0...   \n",
       "\n",
       "                                         Image-URL-M  \\\n",
       "0  http://images.amazon.com/images/P/0195153448.0...   \n",
       "1  http://images.amazon.com/images/P/0002005018.0...   \n",
       "2  http://images.amazon.com/images/P/0002005018.0...   \n",
       "3  http://images.amazon.com/images/P/0002005018.0...   \n",
       "4  http://images.amazon.com/images/P/0002005018.0...   \n",
       "\n",
       "                                         Image-URL-L  \n",
       "0  http://images.amazon.com/images/P/0195153448.0...  \n",
       "1  http://images.amazon.com/images/P/0002005018.0...  \n",
       "2  http://images.amazon.com/images/P/0002005018.0...  \n",
       "3  http://images.amazon.com/images/P/0002005018.0...  \n",
       "4  http://images.amazon.com/images/P/0002005018.0...  "
      ]
     },
     "execution_count": 17,
     "metadata": {},
     "output_type": "execute_result"
    }
   ],
   "source": [
    "merged_df.head()"
   ]
  },
  {
   "cell_type": "code",
   "execution_count": 18,
   "id": "5d2553d1",
   "metadata": {},
   "outputs": [
    {
     "data": {
      "text/plain": [
       "(1031136, 12)"
      ]
     },
     "execution_count": 18,
     "metadata": {},
     "output_type": "execute_result"
    }
   ],
   "source": [
    "merged_df.shape"
   ]
  },
  {
   "cell_type": "code",
   "execution_count": 19,
   "id": "044ec6e7",
   "metadata": {},
   "outputs": [],
   "source": [
    "merged_df.drop(['Image-URL-S', 'Image-URL-M', 'Image-URL-L'],axis=1,inplace=True)"
   ]
  },
  {
   "cell_type": "code",
   "execution_count": 20,
   "id": "f6cd30c4",
   "metadata": {},
   "outputs": [],
   "source": [
    "merged_df.columns= merged_df.columns.str.replace('-', '_')"
   ]
  },
  {
   "cell_type": "code",
   "execution_count": 21,
   "id": "392e912f",
   "metadata": {},
   "outputs": [
    {
     "data": {
      "text/plain": [
       "Index(['User_ID', 'Location', 'Age', 'ISBN', 'Book_Rating', 'Book_Title',\n",
       "       'Book_Author', 'Year_Of_Publication', 'Publisher'],\n",
       "      dtype='object')"
      ]
     },
     "execution_count": 21,
     "metadata": {},
     "output_type": "execute_result"
    }
   ],
   "source": [
    "merged_df.columns"
   ]
  },
  {
   "cell_type": "code",
   "execution_count": 22,
   "id": "3f1de052",
   "metadata": {},
   "outputs": [],
   "source": [
    "def missing_values(df):\n",
    "    miss = df.isnull().sum()\n",
    "    per = df.isnull().mean()\n",
    "    df = pd.concat([miss,per*100],keys = ['Missing_Values','Percentage'], axis = 1)\n",
    "    return df"
   ]
  },
  {
   "cell_type": "code",
   "execution_count": 23,
   "id": "95dd07e9",
   "metadata": {},
   "outputs": [
    {
     "data": {
      "text/html": [
       "<div>\n",
       "<style scoped>\n",
       "    .dataframe tbody tr th:only-of-type {\n",
       "        vertical-align: middle;\n",
       "    }\n",
       "\n",
       "    .dataframe tbody tr th {\n",
       "        vertical-align: top;\n",
       "    }\n",
       "\n",
       "    .dataframe thead th {\n",
       "        text-align: right;\n",
       "    }\n",
       "</style>\n",
       "<table border=\"1\" class=\"dataframe\">\n",
       "  <thead>\n",
       "    <tr style=\"text-align: right;\">\n",
       "      <th></th>\n",
       "      <th>Missing_Values</th>\n",
       "      <th>Percentage</th>\n",
       "    </tr>\n",
       "  </thead>\n",
       "  <tbody>\n",
       "    <tr>\n",
       "      <th>User_ID</th>\n",
       "      <td>0</td>\n",
       "      <td>0.000000</td>\n",
       "    </tr>\n",
       "    <tr>\n",
       "      <th>Location</th>\n",
       "      <td>0</td>\n",
       "      <td>0.000000</td>\n",
       "    </tr>\n",
       "    <tr>\n",
       "      <th>Age</th>\n",
       "      <td>277835</td>\n",
       "      <td>26.944554</td>\n",
       "    </tr>\n",
       "    <tr>\n",
       "      <th>ISBN</th>\n",
       "      <td>0</td>\n",
       "      <td>0.000000</td>\n",
       "    </tr>\n",
       "    <tr>\n",
       "      <th>Book_Rating</th>\n",
       "      <td>0</td>\n",
       "      <td>0.000000</td>\n",
       "    </tr>\n",
       "    <tr>\n",
       "      <th>Book_Title</th>\n",
       "      <td>0</td>\n",
       "      <td>0.000000</td>\n",
       "    </tr>\n",
       "    <tr>\n",
       "      <th>Book_Author</th>\n",
       "      <td>2</td>\n",
       "      <td>0.000194</td>\n",
       "    </tr>\n",
       "    <tr>\n",
       "      <th>Year_Of_Publication</th>\n",
       "      <td>0</td>\n",
       "      <td>0.000000</td>\n",
       "    </tr>\n",
       "    <tr>\n",
       "      <th>Publisher</th>\n",
       "      <td>2</td>\n",
       "      <td>0.000194</td>\n",
       "    </tr>\n",
       "  </tbody>\n",
       "</table>\n",
       "</div>"
      ],
      "text/plain": [
       "                     Missing_Values  Percentage\n",
       "User_ID                           0    0.000000\n",
       "Location                          0    0.000000\n",
       "Age                          277835   26.944554\n",
       "ISBN                              0    0.000000\n",
       "Book_Rating                       0    0.000000\n",
       "Book_Title                        0    0.000000\n",
       "Book_Author                       2    0.000194\n",
       "Year_Of_Publication               0    0.000000\n",
       "Publisher                         2    0.000194"
      ]
     },
     "execution_count": 23,
     "metadata": {},
     "output_type": "execute_result"
    }
   ],
   "source": [
    "missing_values(merged_df)"
   ]
  },
  {
   "cell_type": "code",
   "execution_count": 24,
   "id": "6c4ec94d",
   "metadata": {},
   "outputs": [
    {
     "data": {
      "text/html": [
       "<div>\n",
       "<style scoped>\n",
       "    .dataframe tbody tr th:only-of-type {\n",
       "        vertical-align: middle;\n",
       "    }\n",
       "\n",
       "    .dataframe tbody tr th {\n",
       "        vertical-align: top;\n",
       "    }\n",
       "\n",
       "    .dataframe thead th {\n",
       "        text-align: right;\n",
       "    }\n",
       "</style>\n",
       "<table border=\"1\" class=\"dataframe\">\n",
       "  <thead>\n",
       "    <tr style=\"text-align: right;\">\n",
       "      <th></th>\n",
       "      <th>User_ID</th>\n",
       "      <th>Location</th>\n",
       "      <th>Age</th>\n",
       "      <th>ISBN</th>\n",
       "      <th>Book_Rating</th>\n",
       "      <th>Book_Title</th>\n",
       "      <th>Book_Author</th>\n",
       "      <th>Year_Of_Publication</th>\n",
       "      <th>Publisher</th>\n",
       "    </tr>\n",
       "  </thead>\n",
       "  <tbody>\n",
       "    <tr>\n",
       "      <th>0</th>\n",
       "      <td>2</td>\n",
       "      <td>stockton, california, usa</td>\n",
       "      <td>18.0</td>\n",
       "      <td>0195153448</td>\n",
       "      <td>0</td>\n",
       "      <td>Classical Mythology</td>\n",
       "      <td>Mark P. O. Morford</td>\n",
       "      <td>2002</td>\n",
       "      <td>Oxford University Press</td>\n",
       "    </tr>\n",
       "    <tr>\n",
       "      <th>1</th>\n",
       "      <td>8</td>\n",
       "      <td>timmins, ontario, canada</td>\n",
       "      <td>NaN</td>\n",
       "      <td>0002005018</td>\n",
       "      <td>5</td>\n",
       "      <td>Clara Callan</td>\n",
       "      <td>Richard Bruce Wright</td>\n",
       "      <td>2001</td>\n",
       "      <td>HarperFlamingo Canada</td>\n",
       "    </tr>\n",
       "    <tr>\n",
       "      <th>2</th>\n",
       "      <td>11400</td>\n",
       "      <td>ottawa, ontario, canada</td>\n",
       "      <td>49.0</td>\n",
       "      <td>0002005018</td>\n",
       "      <td>0</td>\n",
       "      <td>Clara Callan</td>\n",
       "      <td>Richard Bruce Wright</td>\n",
       "      <td>2001</td>\n",
       "      <td>HarperFlamingo Canada</td>\n",
       "    </tr>\n",
       "    <tr>\n",
       "      <th>3</th>\n",
       "      <td>11676</td>\n",
       "      <td>n/a, n/a, n/a</td>\n",
       "      <td>NaN</td>\n",
       "      <td>0002005018</td>\n",
       "      <td>8</td>\n",
       "      <td>Clara Callan</td>\n",
       "      <td>Richard Bruce Wright</td>\n",
       "      <td>2001</td>\n",
       "      <td>HarperFlamingo Canada</td>\n",
       "    </tr>\n",
       "    <tr>\n",
       "      <th>4</th>\n",
       "      <td>41385</td>\n",
       "      <td>sudbury, ontario, canada</td>\n",
       "      <td>NaN</td>\n",
       "      <td>0002005018</td>\n",
       "      <td>0</td>\n",
       "      <td>Clara Callan</td>\n",
       "      <td>Richard Bruce Wright</td>\n",
       "      <td>2001</td>\n",
       "      <td>HarperFlamingo Canada</td>\n",
       "    </tr>\n",
       "  </tbody>\n",
       "</table>\n",
       "</div>"
      ],
      "text/plain": [
       "   User_ID                   Location   Age        ISBN  Book_Rating  \\\n",
       "0        2  stockton, california, usa  18.0  0195153448            0   \n",
       "1        8   timmins, ontario, canada   NaN  0002005018            5   \n",
       "2    11400    ottawa, ontario, canada  49.0  0002005018            0   \n",
       "3    11676              n/a, n/a, n/a   NaN  0002005018            8   \n",
       "4    41385   sudbury, ontario, canada   NaN  0002005018            0   \n",
       "\n",
       "            Book_Title           Book_Author Year_Of_Publication  \\\n",
       "0  Classical Mythology    Mark P. O. Morford                2002   \n",
       "1         Clara Callan  Richard Bruce Wright                2001   \n",
       "2         Clara Callan  Richard Bruce Wright                2001   \n",
       "3         Clara Callan  Richard Bruce Wright                2001   \n",
       "4         Clara Callan  Richard Bruce Wright                2001   \n",
       "\n",
       "                 Publisher  \n",
       "0  Oxford University Press  \n",
       "1    HarperFlamingo Canada  \n",
       "2    HarperFlamingo Canada  \n",
       "3    HarperFlamingo Canada  \n",
       "4    HarperFlamingo Canada  "
      ]
     },
     "execution_count": 24,
     "metadata": {},
     "output_type": "execute_result"
    }
   ],
   "source": [
    "merged_df.head()"
   ]
  },
  {
   "cell_type": "code",
   "execution_count": 25,
   "id": "70f8b72f",
   "metadata": {},
   "outputs": [],
   "source": [
    "merged_df.loc[(merged_df.Age > 100) | (merged_df.Age < 5), 'Age'] = np.nan"
   ]
  },
  {
   "cell_type": "code",
   "execution_count": 26,
   "id": "63c4765a",
   "metadata": {},
   "outputs": [
    {
     "data": {
      "text/plain": [
       "User_ID                     0\n",
       "Location                    0\n",
       "Age                    282469\n",
       "ISBN                        0\n",
       "Book_Rating                 0\n",
       "Book_Title                  0\n",
       "Book_Author                 2\n",
       "Year_Of_Publication         0\n",
       "Publisher                   2\n",
       "dtype: int64"
      ]
     },
     "execution_count": 26,
     "metadata": {},
     "output_type": "execute_result"
    }
   ],
   "source": [
    "merged_df.isna().sum()"
   ]
  },
  {
   "cell_type": "code",
   "execution_count": 29,
   "id": "e04026f2",
   "metadata": {},
   "outputs": [],
   "source": [
    "# Create a country column at the place of location\n",
    "merged_df['Country'] = merged_df['Location'].astype(str).apply(lambda x:x.split(',')[-1])\n",
    "# Drop the location column\n",
    "merged_df.drop('Location',axis=1,inplace=True) # inplace =True means we are changing original datafram itself"
   ]
  },
  {
   "cell_type": "code",
   "execution_count": 30,
   "id": "6a5e68d7",
   "metadata": {},
   "outputs": [
    {
     "data": {
      "text/plain": [
       "array([' usa', ' canada', ' n/a', '', ' malaysia', ' spain',\n",
       "       ' new zealand', ' finland', ' united kingdom', ' portugal',\n",
       "       ' brazil', ' germany', ' austria', ' italy', ' netherlands',\n",
       "       ' australia', ' france', ' costa rica', ' poland', ' us', ' iran',\n",
       "       ' aruba', ' india', ' pakistan', ' taiwan', ' singapore',\n",
       "       ' argentina', ' romania', ' greece', ' ireland', ' philippines',\n",
       "       ' belgium', ' philippines\"', ' mexico', ' south africa',\n",
       "       ' burkina faso', ' croatia', ' switzerland', ' denmark', ' rwanda',\n",
       "       ' yugoslavia', ' turkey', ' china', ' japan', ' qatar', ' latvia',\n",
       "       ' sweden', ' kuwait', ' indonesia', ' nepal', ' peru',\n",
       "       ' venezuela', ' south korea\"', ' hong kong', ' united states',\n",
       "       ' slovakia', ' norway', ' dominican republic',\n",
       "       ' bosnia and herzegovina', ' south korea', ' macedonia', ' kenya',\n",
       "       ' mauritius', ' catalonia', ' nigeria', ' madagascar', ' israel',\n",
       "       ' oman', ' egypt', ' lithuania', ' guatemala', ' euskal herria',\n",
       "       ' russia', ' palau', ' bermuda', ' far away...', ' antarctica',\n",
       "       ' andorra', ' united state', ' czech republic', ' bulgaria',\n",
       "       ' england', ' everywhere and anywhere', ' slovenia', ' chile',\n",
       "       ' k1c7b1', ' luxembourg', ' iceland', ' honduras', ' zambia',\n",
       "       ' zimbabwe', ' phillipines', ' trinidad and tobago', ' belize',\n",
       "       ' algeria', ' jamaica', ' benin', ' van wert', ' bahamas',\n",
       "       ' saudi arabia', ' cyprus', ' puerto rico', ' universe',\n",
       "       ' albania', ' mozambique', ' ukraine', ' guinea',\n",
       "       ' united arab emirates', ' america', ' quit', ' cayman islands',\n",
       "       ' tdzimi', ' netherlands\"', ' sri lanka', ' saint lucia',\n",
       "       ' st.thomasi', ' malta', ' burlington', ' turkmenistan', ' shelby',\n",
       "       ' barbados', ' paraguay', ' n/a - on the road', ' laos',\n",
       "       ' st. helena', ' la france', ' greece\"', ' haiti', ' san mateo',\n",
       "       ' hungary', ' rutherford', ' tunisia', ' ua', ' caribbean sea',\n",
       "       ' cape verde', ' burma', ' tanzania', ' morgan', ' senegal',\n",
       "       ' guernsey', ' spain\"', ' republic of panama', ' cuba', ' france\"',\n",
       "       ' deutschland', ' portugal\"', ' ysa', ' thailand', ' pender',\n",
       "       ' bahrain', ' ethiopia', ' unknown', ' moldova', ' framingham',\n",
       "       ' denmark\"', '\"', ' onondaga nation', ' united staes', ' mongolia',\n",
       "       ' ecuador', ' channel islands', ' alderney', ' italia', ' angola',\n",
       "       ' richmond country', ' bolivia', ' ghana', ' switzerland\"',\n",
       "       ' tobago', ' estonia', ' afghanistan', ' kosovo', ' jersey',\n",
       "       ' tonga', ' papua new guinea', ' worcester', ' uruguay', ' csa',\n",
       "       ' solomon islands', ' ireland\"', ' orense', ' georgia', ' urugua',\n",
       "       ' collin', ' u.s.a.', ' kazakhstan', ' turkey\"', ' catalunya',\n",
       "       ' new zealand\"', ' u.k.', ' kern', ' uzbekistan', ' panama',\n",
       "       ' we`re global!', ' space', ' polk', ' colombia', ' españa',\n",
       "       ' wales', ' u.s. of a.', ' aroostook', ' grenada',\n",
       "       ' united states of america', ' orange co', ' thailand\"', ' niger',\n",
       "       ' c.a.', ' iraq', ' ventura county', ' lkjlj', ' ouranos',\n",
       "       ' galiza', ' lebanon', ' x', ' monaco', ' u.a.e', ' alachua',\n",
       "       ' la chine éternelle !', ' china\"', ' la chine éternelle!',\n",
       "       ' samoa', ' vietnam', ' marshall islands', ' c',\n",
       "       ' united kindgonm', ' hernando', ' scotland', ' luxembourg\"',\n",
       "       ' antigua and barbuda', ' ee.uu', ' cananda', ' cambodia',\n",
       "       ' hungary\"', ' nz', ' uganda', ' tajikistan', ' catalunya spain',\n",
       "       ' galiza neghra', ' lleida', ' mexico\"', ' l`italia', ' madrid',\n",
       "       ' guam', ' italy\"', ' ferrara', ' brunei',\n",
       "       ' los estados unidos de norte america', ' germany\"', ' camden',\n",
       "       ' finland\"', ' petrolwar nation', ' morocco', ' maricopa',\n",
       "       ' berguedà', ' the great white north', ' norway\"', ' cherokee',\n",
       "       ' cameroon', ' hungary and usa', ' la belgique', ' belgium\"',\n",
       "       ' u.s>', ' sweden\"', ' united kingdom\"', ' saint loius', ' syria',\n",
       "       ' here and there', ' la suisse', ' bangladesh', ' the',\n",
       "       ' guinea-bissau', ' croatia\"', ' fort bend', ' u.s.a>',\n",
       "       ' prince william', ' united sates',\n",
       "       ' disgruntled states of america', ' fiji', ' usa & canada',\n",
       "       ' \\\\\"n/a\\\\\"\"', ' san franicsco', ' gabon', ' the world tomorrow',\n",
       "       ' argentina\"', ' usa (currently living in england)', ' macau',\n",
       "       ' maracopa', ' el salvador'], dtype=object)"
      ]
     },
     "execution_count": 30,
     "metadata": {},
     "output_type": "execute_result"
    }
   ],
   "source": [
    "merged_df['Country'].unique()"
   ]
  },
  {
   "cell_type": "code",
   "execution_count": 31,
   "id": "e3e65f39",
   "metadata": {},
   "outputs": [],
   "source": [
    "merged_df['Country'] = merged_df['Country'].replace(' ','other').replace(' n/a','other')"
   ]
  },
  {
   "cell_type": "code",
   "execution_count": 32,
   "id": "a88a0009",
   "metadata": {},
   "outputs": [],
   "source": [
    "merged_df['Country'].replace(['','01776','02458','19104','23232','30064','85021','87510','alachua','america','austria','autralia','cananda','geermany','italia','united kindgonm','united sates','united staes','united state','united states','us'],\n",
    "                           ['other','usa','usa','usa','usa','usa','usa','usa','usa','usa','australia','australia','canada','germany','italy','united kingdom','usa','usa','usa','usa','usa'],inplace=True)\n"
   ]
  },
  {
   "cell_type": "code",
   "execution_count": 33,
   "id": "8bd8533b",
   "metadata": {},
   "outputs": [],
   "source": [
    "def missing_values(df):\n",
    "    miss = df.isnull().sum()\n",
    "    per = df.isnull().mean()\n",
    "    df = pd.concat([miss,per*100],keys = ['Missing_Values','Percentage'], axis = 1)\n",
    "    return df"
   ]
  },
  {
   "cell_type": "code",
   "execution_count": 34,
   "id": "9ad17b2f",
   "metadata": {},
   "outputs": [
    {
     "data": {
      "text/html": [
       "<div>\n",
       "<style scoped>\n",
       "    .dataframe tbody tr th:only-of-type {\n",
       "        vertical-align: middle;\n",
       "    }\n",
       "\n",
       "    .dataframe tbody tr th {\n",
       "        vertical-align: top;\n",
       "    }\n",
       "\n",
       "    .dataframe thead th {\n",
       "        text-align: right;\n",
       "    }\n",
       "</style>\n",
       "<table border=\"1\" class=\"dataframe\">\n",
       "  <thead>\n",
       "    <tr style=\"text-align: right;\">\n",
       "      <th></th>\n",
       "      <th>Missing_Values</th>\n",
       "      <th>Percentage</th>\n",
       "    </tr>\n",
       "  </thead>\n",
       "  <tbody>\n",
       "    <tr>\n",
       "      <th>User_ID</th>\n",
       "      <td>0</td>\n",
       "      <td>0.000000</td>\n",
       "    </tr>\n",
       "    <tr>\n",
       "      <th>Age</th>\n",
       "      <td>282469</td>\n",
       "      <td>27.393962</td>\n",
       "    </tr>\n",
       "    <tr>\n",
       "      <th>ISBN</th>\n",
       "      <td>0</td>\n",
       "      <td>0.000000</td>\n",
       "    </tr>\n",
       "    <tr>\n",
       "      <th>Book_Rating</th>\n",
       "      <td>0</td>\n",
       "      <td>0.000000</td>\n",
       "    </tr>\n",
       "    <tr>\n",
       "      <th>Book_Title</th>\n",
       "      <td>0</td>\n",
       "      <td>0.000000</td>\n",
       "    </tr>\n",
       "    <tr>\n",
       "      <th>Book_Author</th>\n",
       "      <td>2</td>\n",
       "      <td>0.000194</td>\n",
       "    </tr>\n",
       "    <tr>\n",
       "      <th>Year_Of_Publication</th>\n",
       "      <td>0</td>\n",
       "      <td>0.000000</td>\n",
       "    </tr>\n",
       "    <tr>\n",
       "      <th>Publisher</th>\n",
       "      <td>2</td>\n",
       "      <td>0.000194</td>\n",
       "    </tr>\n",
       "    <tr>\n",
       "      <th>Country</th>\n",
       "      <td>0</td>\n",
       "      <td>0.000000</td>\n",
       "    </tr>\n",
       "  </tbody>\n",
       "</table>\n",
       "</div>"
      ],
      "text/plain": [
       "                     Missing_Values  Percentage\n",
       "User_ID                           0    0.000000\n",
       "Age                          282469   27.393962\n",
       "ISBN                              0    0.000000\n",
       "Book_Rating                       0    0.000000\n",
       "Book_Title                        0    0.000000\n",
       "Book_Author                       2    0.000194\n",
       "Year_Of_Publication               0    0.000000\n",
       "Publisher                         2    0.000194\n",
       "Country                           0    0.000000"
      ]
     },
     "execution_count": 34,
     "metadata": {},
     "output_type": "execute_result"
    }
   ],
   "source": [
    "missing_values(merged_df)"
   ]
  },
  {
   "cell_type": "code",
   "execution_count": 35,
   "id": "7d03224c",
   "metadata": {},
   "outputs": [
    {
     "data": {
      "text/html": [
       "<div>\n",
       "<style scoped>\n",
       "    .dataframe tbody tr th:only-of-type {\n",
       "        vertical-align: middle;\n",
       "    }\n",
       "\n",
       "    .dataframe tbody tr th {\n",
       "        vertical-align: top;\n",
       "    }\n",
       "\n",
       "    .dataframe thead th {\n",
       "        text-align: right;\n",
       "    }\n",
       "</style>\n",
       "<table border=\"1\" class=\"dataframe\">\n",
       "  <thead>\n",
       "    <tr style=\"text-align: right;\">\n",
       "      <th></th>\n",
       "      <th>User_ID</th>\n",
       "      <th>Age</th>\n",
       "      <th>ISBN</th>\n",
       "      <th>Book_Rating</th>\n",
       "      <th>Book_Title</th>\n",
       "      <th>Book_Author</th>\n",
       "      <th>Year_Of_Publication</th>\n",
       "      <th>Publisher</th>\n",
       "      <th>Country</th>\n",
       "    </tr>\n",
       "  </thead>\n",
       "  <tbody>\n",
       "    <tr>\n",
       "      <th>0</th>\n",
       "      <td>2</td>\n",
       "      <td>18.0</td>\n",
       "      <td>0195153448</td>\n",
       "      <td>0</td>\n",
       "      <td>Classical Mythology</td>\n",
       "      <td>Mark P. O. Morford</td>\n",
       "      <td>2002</td>\n",
       "      <td>Oxford University Press</td>\n",
       "      <td>usa</td>\n",
       "    </tr>\n",
       "    <tr>\n",
       "      <th>1</th>\n",
       "      <td>8</td>\n",
       "      <td>NaN</td>\n",
       "      <td>0002005018</td>\n",
       "      <td>5</td>\n",
       "      <td>Clara Callan</td>\n",
       "      <td>Richard Bruce Wright</td>\n",
       "      <td>2001</td>\n",
       "      <td>HarperFlamingo Canada</td>\n",
       "      <td>canada</td>\n",
       "    </tr>\n",
       "    <tr>\n",
       "      <th>2</th>\n",
       "      <td>11400</td>\n",
       "      <td>49.0</td>\n",
       "      <td>0002005018</td>\n",
       "      <td>0</td>\n",
       "      <td>Clara Callan</td>\n",
       "      <td>Richard Bruce Wright</td>\n",
       "      <td>2001</td>\n",
       "      <td>HarperFlamingo Canada</td>\n",
       "      <td>canada</td>\n",
       "    </tr>\n",
       "    <tr>\n",
       "      <th>3</th>\n",
       "      <td>11676</td>\n",
       "      <td>NaN</td>\n",
       "      <td>0002005018</td>\n",
       "      <td>8</td>\n",
       "      <td>Clara Callan</td>\n",
       "      <td>Richard Bruce Wright</td>\n",
       "      <td>2001</td>\n",
       "      <td>HarperFlamingo Canada</td>\n",
       "      <td>other</td>\n",
       "    </tr>\n",
       "    <tr>\n",
       "      <th>4</th>\n",
       "      <td>41385</td>\n",
       "      <td>NaN</td>\n",
       "      <td>0002005018</td>\n",
       "      <td>0</td>\n",
       "      <td>Clara Callan</td>\n",
       "      <td>Richard Bruce Wright</td>\n",
       "      <td>2001</td>\n",
       "      <td>HarperFlamingo Canada</td>\n",
       "      <td>canada</td>\n",
       "    </tr>\n",
       "  </tbody>\n",
       "</table>\n",
       "</div>"
      ],
      "text/plain": [
       "   User_ID   Age        ISBN  Book_Rating           Book_Title  \\\n",
       "0        2  18.0  0195153448            0  Classical Mythology   \n",
       "1        8   NaN  0002005018            5         Clara Callan   \n",
       "2    11400  49.0  0002005018            0         Clara Callan   \n",
       "3    11676   NaN  0002005018            8         Clara Callan   \n",
       "4    41385   NaN  0002005018            0         Clara Callan   \n",
       "\n",
       "            Book_Author Year_Of_Publication                Publisher  Country  \n",
       "0    Mark P. O. Morford                2002  Oxford University Press      usa  \n",
       "1  Richard Bruce Wright                2001    HarperFlamingo Canada   canada  \n",
       "2  Richard Bruce Wright                2001    HarperFlamingo Canada   canada  \n",
       "3  Richard Bruce Wright                2001    HarperFlamingo Canada    other  \n",
       "4  Richard Bruce Wright                2001    HarperFlamingo Canada   canada  "
      ]
     },
     "execution_count": 35,
     "metadata": {},
     "output_type": "execute_result"
    }
   ],
   "source": [
    "merged_df.head()"
   ]
  },
  {
   "cell_type": "code",
   "execution_count": 36,
   "id": "23a71da0",
   "metadata": {},
   "outputs": [
    {
     "data": {
      "text/plain": [
       "array(['2002', '2001', '1991', '1999', '2000', '1993', '1996', '1988',\n",
       "       '2004', '1998', '1994', '2003', '1997', '1987', '1989', '1992',\n",
       "       '1983', '1979', '1995', '1982', '1985', '1986', '1978', '1980',\n",
       "       '1952', '1990', '1981', '0', '1984', '1968', '1961', '1959',\n",
       "       '1946', '1974', '1958', '1976', '1971', '1977', '1975', '1965',\n",
       "       '1941', '1970', '1972', '1953', '1962', '1973', '1960', '1954',\n",
       "       '1966', '1920', '1967', '1956', '1942', '1955', '1951', '1969',\n",
       "       '1948', '1963', '1964', '1950', '2005', '1943', '1957', '1937',\n",
       "       '1940', '1930', '1923', '1945', '1947', '1936', '1925', '1927',\n",
       "       '2030', '2011', '2020', '1939', '1926', '1938', '1911', '1904',\n",
       "       '1949', '1932', '1929', '1944', '1933', '1922', '1897', '2050',\n",
       "       '1902', '1924', '1921', '1900', '2038', '2010', '1928', '2006',\n",
       "       '1901', '2026', '2021', '1931', '1378', '1908',\n",
       "       'DK Publishing Inc', 'Gallimard', '1909', '2012', '2008', '1935',\n",
       "       '1376', '2037', '1906', '1806', '1917', '1919', '1914', '1934',\n",
       "       '1910', '2024'], dtype=object)"
      ]
     },
     "execution_count": 36,
     "metadata": {},
     "output_type": "execute_result"
    }
   ],
   "source": [
    "merged_df['Year_Of_Publication'].unique()"
   ]
  },
  {
   "cell_type": "code",
   "execution_count": 37,
   "id": "6697305b",
   "metadata": {},
   "outputs": [
    {
     "data": {
      "text/html": [
       "<div>\n",
       "<style scoped>\n",
       "    .dataframe tbody tr th:only-of-type {\n",
       "        vertical-align: middle;\n",
       "    }\n",
       "\n",
       "    .dataframe tbody tr th {\n",
       "        vertical-align: top;\n",
       "    }\n",
       "\n",
       "    .dataframe thead th {\n",
       "        text-align: right;\n",
       "    }\n",
       "</style>\n",
       "<table border=\"1\" class=\"dataframe\">\n",
       "  <thead>\n",
       "    <tr style=\"text-align: right;\">\n",
       "      <th></th>\n",
       "      <th>User_ID</th>\n",
       "      <th>Age</th>\n",
       "      <th>ISBN</th>\n",
       "      <th>Book_Rating</th>\n",
       "      <th>Book_Title</th>\n",
       "      <th>Book_Author</th>\n",
       "      <th>Year_Of_Publication</th>\n",
       "      <th>Publisher</th>\n",
       "      <th>Country</th>\n",
       "    </tr>\n",
       "  </thead>\n",
       "  <tbody>\n",
       "    <tr>\n",
       "      <th>857163</th>\n",
       "      <td>98391</td>\n",
       "      <td>52.0</td>\n",
       "      <td>193169656X</td>\n",
       "      <td>9</td>\n",
       "      <td>Tyrant Moon</td>\n",
       "      <td>Elaine Corvidae</td>\n",
       "      <td>2002</td>\n",
       "      <td>NaN</td>\n",
       "      <td>usa</td>\n",
       "    </tr>\n",
       "    <tr>\n",
       "      <th>857174</th>\n",
       "      <td>98391</td>\n",
       "      <td>52.0</td>\n",
       "      <td>1931696993</td>\n",
       "      <td>9</td>\n",
       "      <td>Finders Keepers</td>\n",
       "      <td>Linnea Sinclair</td>\n",
       "      <td>2001</td>\n",
       "      <td>NaN</td>\n",
       "      <td>usa</td>\n",
       "    </tr>\n",
       "  </tbody>\n",
       "</table>\n",
       "</div>"
      ],
      "text/plain": [
       "        User_ID   Age        ISBN  Book_Rating       Book_Title  \\\n",
       "857163    98391  52.0  193169656X            9      Tyrant Moon   \n",
       "857174    98391  52.0  1931696993            9  Finders Keepers   \n",
       "\n",
       "            Book_Author Year_Of_Publication Publisher Country  \n",
       "857163  Elaine Corvidae                2002       NaN     usa  \n",
       "857174  Linnea Sinclair                2001       NaN     usa  "
      ]
     },
     "execution_count": 37,
     "metadata": {},
     "output_type": "execute_result"
    }
   ],
   "source": [
    "merged_df[merged_df['Publisher'].isnull()]\n",
    "# merged_df.loc[(merged_df['publisher'].isnull()),:]"
   ]
  },
  {
   "cell_type": "code",
   "execution_count": 38,
   "id": "310a34ca",
   "metadata": {},
   "outputs": [
    {
     "data": {
      "text/html": [
       "<div>\n",
       "<style scoped>\n",
       "    .dataframe tbody tr th:only-of-type {\n",
       "        vertical-align: middle;\n",
       "    }\n",
       "\n",
       "    .dataframe tbody tr th {\n",
       "        vertical-align: top;\n",
       "    }\n",
       "\n",
       "    .dataframe thead th {\n",
       "        text-align: right;\n",
       "    }\n",
       "</style>\n",
       "<table border=\"1\" class=\"dataframe\">\n",
       "  <thead>\n",
       "    <tr style=\"text-align: right;\">\n",
       "      <th></th>\n",
       "      <th>Missing_Values</th>\n",
       "      <th>Percentage</th>\n",
       "    </tr>\n",
       "  </thead>\n",
       "  <tbody>\n",
       "    <tr>\n",
       "      <th>User_ID</th>\n",
       "      <td>0</td>\n",
       "      <td>0.000000</td>\n",
       "    </tr>\n",
       "    <tr>\n",
       "      <th>Age</th>\n",
       "      <td>282469</td>\n",
       "      <td>27.393962</td>\n",
       "    </tr>\n",
       "    <tr>\n",
       "      <th>ISBN</th>\n",
       "      <td>0</td>\n",
       "      <td>0.000000</td>\n",
       "    </tr>\n",
       "    <tr>\n",
       "      <th>Book_Rating</th>\n",
       "      <td>0</td>\n",
       "      <td>0.000000</td>\n",
       "    </tr>\n",
       "    <tr>\n",
       "      <th>Book_Title</th>\n",
       "      <td>0</td>\n",
       "      <td>0.000000</td>\n",
       "    </tr>\n",
       "    <tr>\n",
       "      <th>Book_Author</th>\n",
       "      <td>2</td>\n",
       "      <td>0.000194</td>\n",
       "    </tr>\n",
       "    <tr>\n",
       "      <th>Year_Of_Publication</th>\n",
       "      <td>0</td>\n",
       "      <td>0.000000</td>\n",
       "    </tr>\n",
       "    <tr>\n",
       "      <th>Publisher</th>\n",
       "      <td>2</td>\n",
       "      <td>0.000194</td>\n",
       "    </tr>\n",
       "    <tr>\n",
       "      <th>Country</th>\n",
       "      <td>0</td>\n",
       "      <td>0.000000</td>\n",
       "    </tr>\n",
       "  </tbody>\n",
       "</table>\n",
       "</div>"
      ],
      "text/plain": [
       "                     Missing_Values  Percentage\n",
       "User_ID                           0    0.000000\n",
       "Age                          282469   27.393962\n",
       "ISBN                              0    0.000000\n",
       "Book_Rating                       0    0.000000\n",
       "Book_Title                        0    0.000000\n",
       "Book_Author                       2    0.000194\n",
       "Year_Of_Publication               0    0.000000\n",
       "Publisher                         2    0.000194\n",
       "Country                           0    0.000000"
      ]
     },
     "execution_count": 38,
     "metadata": {},
     "output_type": "execute_result"
    }
   ],
   "source": [
    "missing_values(merged_df)"
   ]
  },
  {
   "cell_type": "code",
   "execution_count": 39,
   "id": "f1263de6",
   "metadata": {},
   "outputs": [],
   "source": [
    "merged_df.loc[(merged_df.Age > 100) | (merged_df.Age < 5), 'Age'] = np.nan"
   ]
  },
  {
   "cell_type": "code",
   "execution_count": 41,
   "id": "385776c9",
   "metadata": {},
   "outputs": [
    {
     "data": {
      "text/plain": [
       "Text(0.5, 1.0, 'Find outlier data in Age column')"
      ]
     },
     "execution_count": 41,
     "metadata": {},
     "output_type": "execute_result"
    },
    {
     "data": {
      "image/png": "[encoded data removed]",
      "text/plain": [
       "<Figure size 640x480 with 1 Axes>"
      ]
     },
     "metadata": {},
     "output_type": "display_data"
    }
   ],
   "source": [
    "# finding outlier in age\n",
    "# Box plot for age\n",
    "sns.boxplot(merged_df['Age']);\n",
    "plt.title('Find outlier data in Age column')"
   ]
  },
  {
   "cell_type": "code",
   "execution_count": 42,
   "id": "fd4d26f6",
   "metadata": {},
   "outputs": [],
   "source": [
    "merged_df.loc[(merged_df.Age > 100) | (merged_df.Age < 5), 'Age'] = np.nan"
   ]
  },
  {
   "cell_type": "code",
   "execution_count": 43,
   "id": "215ac3e8",
   "metadata": {},
   "outputs": [
    {
     "data": {
      "text/plain": [
       "User_ID                     0\n",
       "Age                    282469\n",
       "ISBN                        0\n",
       "Book_Rating                 0\n",
       "Book_Title                  0\n",
       "Book_Author                 2\n",
       "Year_Of_Publication         0\n",
       "Publisher                   2\n",
       "Country                     0\n",
       "dtype: int64"
      ]
     },
     "execution_count": 43,
     "metadata": {},
     "output_type": "execute_result"
    }
   ],
   "source": [
    "merged_df.isna().sum()"
   ]
  },
  {
   "cell_type": "code",
   "execution_count": 44,
   "id": "0a487585",
   "metadata": {},
   "outputs": [],
   "source": [
    "merged_df['Age'] = merged_df['Age'].fillna(merged_df.groupby('Country')['Age'].transform('median'))"
   ]
  },
  {
   "cell_type": "code",
   "execution_count": 45,
   "id": "043fab83",
   "metadata": {},
   "outputs": [
    {
     "data": {
      "text/plain": [
       "User_ID                  0\n",
       "Age                    560\n",
       "ISBN                     0\n",
       "Book_Rating              0\n",
       "Book_Title               0\n",
       "Book_Author              2\n",
       "Year_Of_Publication      0\n",
       "Publisher                2\n",
       "Country                  0\n",
       "dtype: int64"
      ]
     },
     "execution_count": 45,
     "metadata": {},
     "output_type": "execute_result"
    }
   ],
   "source": [
    "merged_df.isna().sum()"
   ]
  },
  {
   "cell_type": "code",
   "execution_count": 46,
   "id": "5c057e96",
   "metadata": {},
   "outputs": [],
   "source": [
    "merged_df['Age'].fillna(merged_df.Age.mean(),inplace=True)"
   ]
  },
  {
   "cell_type": "code",
   "execution_count": 47,
   "id": "3889f3b1",
   "metadata": {},
   "outputs": [
    {
     "data": {
      "text/plain": [
       "User_ID                0\n",
       "Age                    0\n",
       "ISBN                   0\n",
       "Book_Rating            0\n",
       "Book_Title             0\n",
       "Book_Author            2\n",
       "Year_Of_Publication    0\n",
       "Publisher              2\n",
       "Country                0\n",
       "dtype: int64"
      ]
     },
     "execution_count": 47,
     "metadata": {},
     "output_type": "execute_result"
    }
   ],
   "source": [
    "merged_df.isna().sum()"
   ]
  },
  {
   "cell_type": "code",
   "execution_count": 48,
   "id": "5dc54fab",
   "metadata": {},
   "outputs": [
    {
     "data": {
      "text/html": [
       "<div>\n",
       "<style scoped>\n",
       "    .dataframe tbody tr th:only-of-type {\n",
       "        vertical-align: middle;\n",
       "    }\n",
       "\n",
       "    .dataframe tbody tr th {\n",
       "        vertical-align: top;\n",
       "    }\n",
       "\n",
       "    .dataframe thead th {\n",
       "        text-align: right;\n",
       "    }\n",
       "</style>\n",
       "<table border=\"1\" class=\"dataframe\">\n",
       "  <thead>\n",
       "    <tr style=\"text-align: right;\">\n",
       "      <th></th>\n",
       "      <th>User_ID</th>\n",
       "      <th>Age</th>\n",
       "      <th>ISBN</th>\n",
       "      <th>Book_Rating</th>\n",
       "      <th>Book_Title</th>\n",
       "      <th>Book_Author</th>\n",
       "      <th>Year_Of_Publication</th>\n",
       "      <th>Publisher</th>\n",
       "      <th>Country</th>\n",
       "    </tr>\n",
       "  </thead>\n",
       "  <tbody>\n",
       "    <tr>\n",
       "      <th>906829</th>\n",
       "      <td>130571</td>\n",
       "      <td>36.0</td>\n",
       "      <td>0789466953</td>\n",
       "      <td>0</td>\n",
       "      <td>DK Readers: Creating the X-Men, How Comic Book...</td>\n",
       "      <td>2000</td>\n",
       "      <td>DK Publishing Inc</td>\n",
       "      <td>http://images.amazon.com/images/P/0789466953.0...</td>\n",
       "      <td>usa</td>\n",
       "    </tr>\n",
       "    <tr>\n",
       "      <th>946370</th>\n",
       "      <td>169663</td>\n",
       "      <td>36.0</td>\n",
       "      <td>078946697X</td>\n",
       "      <td>0</td>\n",
       "      <td>DK Readers: Creating the X-Men, How It All Beg...</td>\n",
       "      <td>2000</td>\n",
       "      <td>DK Publishing Inc</td>\n",
       "      <td>http://images.amazon.com/images/P/078946697X.0...</td>\n",
       "      <td>usa</td>\n",
       "    </tr>\n",
       "    <tr>\n",
       "      <th>946371</th>\n",
       "      <td>227771</td>\n",
       "      <td>19.0</td>\n",
       "      <td>078946697X</td>\n",
       "      <td>7</td>\n",
       "      <td>DK Readers: Creating the X-Men, How It All Beg...</td>\n",
       "      <td>2000</td>\n",
       "      <td>DK Publishing Inc</td>\n",
       "      <td>http://images.amazon.com/images/P/078946697X.0...</td>\n",
       "      <td>israel</td>\n",
       "    </tr>\n",
       "  </tbody>\n",
       "</table>\n",
       "</div>"
      ],
      "text/plain": [
       "        User_ID   Age        ISBN  Book_Rating  \\\n",
       "906829   130571  36.0  0789466953            0   \n",
       "946370   169663  36.0  078946697X            0   \n",
       "946371   227771  19.0  078946697X            7   \n",
       "\n",
       "                                               Book_Title Book_Author  \\\n",
       "906829  DK Readers: Creating the X-Men, How Comic Book...        2000   \n",
       "946370  DK Readers: Creating the X-Men, How It All Beg...        2000   \n",
       "946371  DK Readers: Creating the X-Men, How It All Beg...        2000   \n",
       "\n",
       "       Year_Of_Publication                                          Publisher  \\\n",
       "906829   DK Publishing Inc  http://images.amazon.com/images/P/0789466953.0...   \n",
       "946370   DK Publishing Inc  http://images.amazon.com/images/P/078946697X.0...   \n",
       "946371   DK Publishing Inc  http://images.amazon.com/images/P/078946697X.0...   \n",
       "\n",
       "        Country  \n",
       "906829      usa  \n",
       "946370      usa  \n",
       "946371   israel  "
      ]
     },
     "execution_count": 48,
     "metadata": {},
     "output_type": "execute_result"
    }
   ],
   "source": [
    "merged_df.loc[merged_df['Year_Of_Publication'] == 'DK Publishing Inc',:]"
   ]
  },
  {
   "cell_type": "code",
   "execution_count": 49,
   "id": "f6975f2b",
   "metadata": {},
   "outputs": [
    {
     "data": {
      "text/html": [
       "<div>\n",
       "<style scoped>\n",
       "    .dataframe tbody tr th:only-of-type {\n",
       "        vertical-align: middle;\n",
       "    }\n",
       "\n",
       "    .dataframe tbody tr th {\n",
       "        vertical-align: top;\n",
       "    }\n",
       "\n",
       "    .dataframe thead th {\n",
       "        text-align: right;\n",
       "    }\n",
       "</style>\n",
       "<table border=\"1\" class=\"dataframe\">\n",
       "  <thead>\n",
       "    <tr style=\"text-align: right;\">\n",
       "      <th></th>\n",
       "      <th>User_ID</th>\n",
       "      <th>Age</th>\n",
       "      <th>ISBN</th>\n",
       "      <th>Book_Rating</th>\n",
       "      <th>Book_Title</th>\n",
       "      <th>Book_Author</th>\n",
       "      <th>Year_Of_Publication</th>\n",
       "      <th>Publisher</th>\n",
       "      <th>Country</th>\n",
       "    </tr>\n",
       "  </thead>\n",
       "  <tbody>\n",
       "    <tr>\n",
       "      <th>913994</th>\n",
       "      <td>137190</td>\n",
       "      <td>31.0</td>\n",
       "      <td>2070426769</td>\n",
       "      <td>0</td>\n",
       "      <td>Peuple du ciel, suivi de 'Les Bergers\\\";Jean-M...</td>\n",
       "      <td>2003</td>\n",
       "      <td>Gallimard</td>\n",
       "      <td>http://images.amazon.com/images/P/2070426769.0...</td>\n",
       "      <td>france</td>\n",
       "    </tr>\n",
       "  </tbody>\n",
       "</table>\n",
       "</div>"
      ],
      "text/plain": [
       "        User_ID   Age        ISBN  Book_Rating  \\\n",
       "913994   137190  31.0  2070426769            0   \n",
       "\n",
       "                                               Book_Title Book_Author  \\\n",
       "913994  Peuple du ciel, suivi de 'Les Bergers\\\";Jean-M...        2003   \n",
       "\n",
       "       Year_Of_Publication                                          Publisher  \\\n",
       "913994           Gallimard  http://images.amazon.com/images/P/2070426769.0...   \n",
       "\n",
       "        Country  \n",
       "913994   france  "
      ]
     },
     "execution_count": 49,
     "metadata": {},
     "output_type": "execute_result"
    }
   ],
   "source": [
    "merged_df.loc[merged_df['Year_Of_Publication'] == 'Gallimard',:]"
   ]
  },
  {
   "cell_type": "code",
   "execution_count": 50,
   "id": "cde60dd7",
   "metadata": {},
   "outputs": [
    {
     "data": {
      "text/html": [
       "<div>\n",
       "<style scoped>\n",
       "    .dataframe tbody tr th:only-of-type {\n",
       "        vertical-align: middle;\n",
       "    }\n",
       "\n",
       "    .dataframe tbody tr th {\n",
       "        vertical-align: top;\n",
       "    }\n",
       "\n",
       "    .dataframe thead th {\n",
       "        text-align: right;\n",
       "    }\n",
       "</style>\n",
       "<table border=\"1\" class=\"dataframe\">\n",
       "  <thead>\n",
       "    <tr style=\"text-align: right;\">\n",
       "      <th></th>\n",
       "      <th>User_ID</th>\n",
       "      <th>Age</th>\n",
       "      <th>ISBN</th>\n",
       "      <th>Book_Rating</th>\n",
       "      <th>Book_Title</th>\n",
       "      <th>Book_Author</th>\n",
       "      <th>Year_Of_Publication</th>\n",
       "      <th>Publisher</th>\n",
       "      <th>Country</th>\n",
       "    </tr>\n",
       "  </thead>\n",
       "  <tbody>\n",
       "    <tr>\n",
       "      <th>913994</th>\n",
       "      <td>137190</td>\n",
       "      <td>31.0</td>\n",
       "      <td>2070426769</td>\n",
       "      <td>0</td>\n",
       "      <td>Peuple du ciel, suivi de 'Les Bergers</td>\n",
       "      <td>Jean-Marie Gustave Le ClÃ?Â©zio</td>\n",
       "      <td>2003</td>\n",
       "      <td>Gallimard</td>\n",
       "      <td>france</td>\n",
       "    </tr>\n",
       "  </tbody>\n",
       "</table>\n",
       "</div>"
      ],
      "text/plain": [
       "        User_ID   Age        ISBN  Book_Rating  \\\n",
       "913994   137190  31.0  2070426769            0   \n",
       "\n",
       "                                   Book_Title  \\\n",
       "913994  Peuple du ciel, suivi de 'Les Bergers   \n",
       "\n",
       "                            Book_Author Year_Of_Publication  Publisher  \\\n",
       "913994  Jean-Marie Gustave Le ClÃ?Â©zio                2003  Gallimard   \n",
       "\n",
       "        Country  \n",
       "913994   france  "
      ]
     },
     "execution_count": 50,
     "metadata": {},
     "output_type": "execute_result"
    }
   ],
   "source": [
    "merged_df.loc[merged_df.ISBN == '2070426769','Year_Of_Publication'] = 2003\n",
    "merged_df.loc[merged_df.ISBN == '2070426769','Book_Author'] = \"Jean-Marie Gustave Le ClÃ?Â©zio\"\n",
    "merged_df.loc[merged_df.ISBN == '2070426769','Publisher'] = \"Gallimard\"\n",
    "merged_df.loc[merged_df.ISBN == '2070426769','Book_Title'] = \"Peuple du ciel, suivi de 'Les Bergers\"\n",
    "merged_df.loc[merged_df.ISBN == '2070426769',:]"
   ]
  },
  {
   "cell_type": "code",
   "execution_count": 51,
   "id": "288ccf37",
   "metadata": {},
   "outputs": [
    {
     "data": {
      "text/html": [
       "<div>\n",
       "<style scoped>\n",
       "    .dataframe tbody tr th:only-of-type {\n",
       "        vertical-align: middle;\n",
       "    }\n",
       "\n",
       "    .dataframe tbody tr th {\n",
       "        vertical-align: top;\n",
       "    }\n",
       "\n",
       "    .dataframe thead th {\n",
       "        text-align: right;\n",
       "    }\n",
       "</style>\n",
       "<table border=\"1\" class=\"dataframe\">\n",
       "  <thead>\n",
       "    <tr style=\"text-align: right;\">\n",
       "      <th></th>\n",
       "      <th>User_ID</th>\n",
       "      <th>Age</th>\n",
       "      <th>ISBN</th>\n",
       "      <th>Book_Rating</th>\n",
       "      <th>Book_Title</th>\n",
       "      <th>Book_Author</th>\n",
       "      <th>Year_Of_Publication</th>\n",
       "      <th>Publisher</th>\n",
       "      <th>Country</th>\n",
       "    </tr>\n",
       "  </thead>\n",
       "  <tbody>\n",
       "    <tr>\n",
       "      <th>913994</th>\n",
       "      <td>137190</td>\n",
       "      <td>31.0</td>\n",
       "      <td>2070426769</td>\n",
       "      <td>0</td>\n",
       "      <td>Peuple du ciel, suivi de 'Les Bergers</td>\n",
       "      <td>Jean-Marie Gustave Le ClÃ?Â©zio</td>\n",
       "      <td>2003</td>\n",
       "      <td>Gallimard</td>\n",
       "      <td>france</td>\n",
       "    </tr>\n",
       "  </tbody>\n",
       "</table>\n",
       "</div>"
      ],
      "text/plain": [
       "        User_ID   Age        ISBN  Book_Rating  \\\n",
       "913994   137190  31.0  2070426769            0   \n",
       "\n",
       "                                   Book_Title  \\\n",
       "913994  Peuple du ciel, suivi de 'Les Bergers   \n",
       "\n",
       "                            Book_Author Year_Of_Publication  Publisher  \\\n",
       "913994  Jean-Marie Gustave Le ClÃ?Â©zio                2003  Gallimard   \n",
       "\n",
       "        Country  \n",
       "913994   france  "
      ]
     },
     "execution_count": 51,
     "metadata": {},
     "output_type": "execute_result"
    }
   ],
   "source": [
    "merged_df.loc[merged_df.ISBN == '2070426769','Year_Of_Publication'] = 2003\n",
    "merged_df.loc[merged_df.ISBN == '2070426769','Book_Author'] = \"Jean-Marie Gustave Le ClÃ?Â©zio\"\n",
    "merged_df.loc[merged_df.ISBN == '2070426769','Publisher'] = \"Gallimard\"\n",
    "merged_df.loc[merged_df.ISBN == '2070426769','Book_Title'] = \"Peuple du ciel, suivi de 'Les Bergers\"\n",
    "merged_df.loc[merged_df.ISBN == '2070426769',:]"
   ]
  },
  {
   "cell_type": "code",
   "execution_count": 52,
   "id": "4d79c7d0",
   "metadata": {},
   "outputs": [
    {
     "data": {
      "text/plain": [
       "array([2002., 2001., 1991., 1999., 2000., 1993., 1996., 1988., 2004.,\n",
       "       1998., 1994., 2003., 1997., 1987., 1989., 1992., 1983., 1979.,\n",
       "       1995., 1982., 1985., 1986., 1978., 1980., 1952., 1990., 1981.,\n",
       "          0., 1984., 1968., 1961., 1959., 1946., 1974., 1958., 1976.,\n",
       "       1971., 1977., 1975., 1965., 1941., 1970., 1972., 1953., 1962.,\n",
       "       1973., 1960., 1954., 1966., 1920., 1967., 1956., 1942., 1955.,\n",
       "       1951., 1969., 1948., 1963., 1964., 1950., 2005., 1943., 1957.,\n",
       "       1937., 1940., 1930., 1923., 1945., 1947., 1936., 1925., 1927.,\n",
       "       2030., 2011., 2020., 1939., 1926., 1938., 1911., 1904., 1949.,\n",
       "       1932., 1929., 1944., 1933., 1922., 1897., 2050., 1902., 1924.,\n",
       "       1921., 1900., 2038., 2010., 1928., 2006., 1901., 2026., 2021.,\n",
       "       1931., 1378., 1908.,   nan, 1909., 2012., 2008., 1935., 1376.,\n",
       "       2037., 1906., 1806., 1917., 1919., 1914., 1934., 1910., 2024.])"
      ]
     },
     "execution_count": 52,
     "metadata": {},
     "output_type": "execute_result"
    }
   ],
   "source": [
    "merged_df['Year_Of_Publication']=pd.to_numeric(merged_df['Year_Of_Publication'], errors='coerce')\n",
    "merged_df['Year_Of_Publication'].unique()"
   ]
  },
  {
   "cell_type": "code",
   "execution_count": 53,
   "id": "6182753a",
   "metadata": {},
   "outputs": [],
   "source": [
    "merged_df.loc[(merged_df['Year_Of_Publication'] > 2006) | (merged_df['Year_Of_Publication'] == 0),'Year_Of_Publication'] = np.NAN\n",
    "merged_df['Year_Of_Publication'].fillna(round(merged_df['Year_Of_Publication'].median()), inplace=True)"
   ]
  },
  {
   "cell_type": "code",
   "execution_count": 54,
   "id": "4dae991b",
   "metadata": {},
   "outputs": [
    {
     "data": {
      "text/plain": [
       "User_ID                0\n",
       "Age                    0\n",
       "ISBN                   0\n",
       "Book_Rating            0\n",
       "Book_Title             0\n",
       "Book_Author            2\n",
       "Year_Of_Publication    0\n",
       "Publisher              2\n",
       "Country                0\n",
       "dtype: int64"
      ]
     },
     "execution_count": 54,
     "metadata": {},
     "output_type": "execute_result"
    }
   ],
   "source": [
    "merged_df.isna().sum()"
   ]
  },
  {
   "cell_type": "code",
   "execution_count": 55,
   "id": "589ace69",
   "metadata": {},
   "outputs": [
    {
     "data": {
      "text/html": [
       "<div>\n",
       "<style scoped>\n",
       "    .dataframe tbody tr th:only-of-type {\n",
       "        vertical-align: middle;\n",
       "    }\n",
       "\n",
       "    .dataframe tbody tr th {\n",
       "        vertical-align: top;\n",
       "    }\n",
       "\n",
       "    .dataframe thead th {\n",
       "        text-align: right;\n",
       "    }\n",
       "</style>\n",
       "<table border=\"1\" class=\"dataframe\">\n",
       "  <thead>\n",
       "    <tr style=\"text-align: right;\">\n",
       "      <th></th>\n",
       "      <th>User_ID</th>\n",
       "      <th>Age</th>\n",
       "      <th>ISBN</th>\n",
       "      <th>Book_Rating</th>\n",
       "      <th>Book_Title</th>\n",
       "      <th>Book_Author</th>\n",
       "      <th>Year_Of_Publication</th>\n",
       "      <th>Publisher</th>\n",
       "      <th>Country</th>\n",
       "    </tr>\n",
       "  </thead>\n",
       "  <tbody>\n",
       "    <tr>\n",
       "      <th>857163</th>\n",
       "      <td>98391</td>\n",
       "      <td>52.0</td>\n",
       "      <td>193169656X</td>\n",
       "      <td>9</td>\n",
       "      <td>Tyrant Moon</td>\n",
       "      <td>Elaine Corvidae</td>\n",
       "      <td>2002.0</td>\n",
       "      <td>NaN</td>\n",
       "      <td>usa</td>\n",
       "    </tr>\n",
       "    <tr>\n",
       "      <th>857174</th>\n",
       "      <td>98391</td>\n",
       "      <td>52.0</td>\n",
       "      <td>1931696993</td>\n",
       "      <td>9</td>\n",
       "      <td>Finders Keepers</td>\n",
       "      <td>Linnea Sinclair</td>\n",
       "      <td>2001.0</td>\n",
       "      <td>NaN</td>\n",
       "      <td>usa</td>\n",
       "    </tr>\n",
       "  </tbody>\n",
       "</table>\n",
       "</div>"
      ],
      "text/plain": [
       "        User_ID   Age        ISBN  Book_Rating       Book_Title  \\\n",
       "857163    98391  52.0  193169656X            9      Tyrant Moon   \n",
       "857174    98391  52.0  1931696993            9  Finders Keepers   \n",
       "\n",
       "            Book_Author  Year_Of_Publication Publisher Country  \n",
       "857163  Elaine Corvidae               2002.0       NaN     usa  \n",
       "857174  Linnea Sinclair               2001.0       NaN     usa  "
      ]
     },
     "execution_count": 55,
     "metadata": {},
     "output_type": "execute_result"
    }
   ],
   "source": [
    "merged_df.loc[merged_df.Publisher.isnull(),:]\n"
   ]
  },
  {
   "cell_type": "code",
   "execution_count": 56,
   "id": "2fa3dc02",
   "metadata": {},
   "outputs": [],
   "source": [
    "merged_df.Publisher.fillna('other',inplace=True)"
   ]
  },
  {
   "cell_type": "code",
   "execution_count": 57,
   "id": "9b81f2cb",
   "metadata": {},
   "outputs": [
    {
     "data": {
      "text/html": [
       "<div>\n",
       "<style scoped>\n",
       "    .dataframe tbody tr th:only-of-type {\n",
       "        vertical-align: middle;\n",
       "    }\n",
       "\n",
       "    .dataframe tbody tr th {\n",
       "        vertical-align: top;\n",
       "    }\n",
       "\n",
       "    .dataframe thead th {\n",
       "        text-align: right;\n",
       "    }\n",
       "</style>\n",
       "<table border=\"1\" class=\"dataframe\">\n",
       "  <thead>\n",
       "    <tr style=\"text-align: right;\">\n",
       "      <th></th>\n",
       "      <th>User_ID</th>\n",
       "      <th>Age</th>\n",
       "      <th>ISBN</th>\n",
       "      <th>Book_Rating</th>\n",
       "      <th>Book_Title</th>\n",
       "      <th>Book_Author</th>\n",
       "      <th>Year_Of_Publication</th>\n",
       "      <th>Publisher</th>\n",
       "      <th>Country</th>\n",
       "    </tr>\n",
       "  </thead>\n",
       "  <tbody>\n",
       "    <tr>\n",
       "      <th>778170</th>\n",
       "      <td>63714</td>\n",
       "      <td>29.0</td>\n",
       "      <td>0751352497</td>\n",
       "      <td>10</td>\n",
       "      <td>A+ Quiz Masters:01 Earth</td>\n",
       "      <td>NaN</td>\n",
       "      <td>1999.0</td>\n",
       "      <td>Dorling Kindersley</td>\n",
       "      <td>united kingdom</td>\n",
       "    </tr>\n",
       "    <tr>\n",
       "      <th>857604</th>\n",
       "      <td>98647</td>\n",
       "      <td>26.0</td>\n",
       "      <td>9627982032</td>\n",
       "      <td>8</td>\n",
       "      <td>The Credit Suisse Guide to Managing Your Perso...</td>\n",
       "      <td>NaN</td>\n",
       "      <td>1995.0</td>\n",
       "      <td>Edinburgh Financial Publishing</td>\n",
       "      <td>malaysia</td>\n",
       "    </tr>\n",
       "  </tbody>\n",
       "</table>\n",
       "</div>"
      ],
      "text/plain": [
       "        User_ID   Age        ISBN  Book_Rating  \\\n",
       "778170    63714  29.0  0751352497           10   \n",
       "857604    98647  26.0  9627982032            8   \n",
       "\n",
       "                                               Book_Title Book_Author  \\\n",
       "778170                           A+ Quiz Masters:01 Earth         NaN   \n",
       "857604  The Credit Suisse Guide to Managing Your Perso...         NaN   \n",
       "\n",
       "        Year_Of_Publication                       Publisher          Country  \n",
       "778170               1999.0              Dorling Kindersley   united kingdom  \n",
       "857604               1995.0  Edinburgh Financial Publishing         malaysia  "
      ]
     },
     "execution_count": 57,
     "metadata": {},
     "output_type": "execute_result"
    }
   ],
   "source": [
    "merged_df.loc[merged_df['Book_Author'].isnull(),:]"
   ]
  },
  {
   "cell_type": "code",
   "execution_count": 58,
   "id": "a5b2045b",
   "metadata": {},
   "outputs": [],
   "source": [
    "merged_df['Book_Author'].fillna('other',inplace=True)"
   ]
  },
  {
   "cell_type": "code",
   "execution_count": 59,
   "id": "af7cb82d",
   "metadata": {},
   "outputs": [
    {
     "data": {
      "text/plain": [
       "User_ID                0\n",
       "Age                    0\n",
       "ISBN                   0\n",
       "Book_Rating            0\n",
       "Book_Title             0\n",
       "Book_Author            0\n",
       "Year_Of_Publication    0\n",
       "Publisher              0\n",
       "Country                0\n",
       "dtype: int64"
      ]
     },
     "execution_count": 59,
     "metadata": {},
     "output_type": "execute_result"
    }
   ],
   "source": [
    "merged_df.isna().sum()"
   ]
  },
  {
   "cell_type": "code",
   "execution_count": 60,
   "id": "67ecae50",
   "metadata": {},
   "outputs": [
    {
     "data": {
      "text/html": [
       "<div>\n",
       "<style scoped>\n",
       "    .dataframe tbody tr th:only-of-type {\n",
       "        vertical-align: middle;\n",
       "    }\n",
       "\n",
       "    .dataframe tbody tr th {\n",
       "        vertical-align: top;\n",
       "    }\n",
       "\n",
       "    .dataframe thead th {\n",
       "        text-align: right;\n",
       "    }\n",
       "</style>\n",
       "<table border=\"1\" class=\"dataframe\">\n",
       "  <thead>\n",
       "    <tr style=\"text-align: right;\">\n",
       "      <th></th>\n",
       "      <th>Missing_Values</th>\n",
       "      <th>Percentage</th>\n",
       "    </tr>\n",
       "  </thead>\n",
       "  <tbody>\n",
       "    <tr>\n",
       "      <th>User_ID</th>\n",
       "      <td>0</td>\n",
       "      <td>0.0</td>\n",
       "    </tr>\n",
       "    <tr>\n",
       "      <th>Age</th>\n",
       "      <td>0</td>\n",
       "      <td>0.0</td>\n",
       "    </tr>\n",
       "    <tr>\n",
       "      <th>ISBN</th>\n",
       "      <td>0</td>\n",
       "      <td>0.0</td>\n",
       "    </tr>\n",
       "    <tr>\n",
       "      <th>Book_Rating</th>\n",
       "      <td>0</td>\n",
       "      <td>0.0</td>\n",
       "    </tr>\n",
       "    <tr>\n",
       "      <th>Book_Title</th>\n",
       "      <td>0</td>\n",
       "      <td>0.0</td>\n",
       "    </tr>\n",
       "    <tr>\n",
       "      <th>Book_Author</th>\n",
       "      <td>0</td>\n",
       "      <td>0.0</td>\n",
       "    </tr>\n",
       "    <tr>\n",
       "      <th>Year_Of_Publication</th>\n",
       "      <td>0</td>\n",
       "      <td>0.0</td>\n",
       "    </tr>\n",
       "    <tr>\n",
       "      <th>Publisher</th>\n",
       "      <td>0</td>\n",
       "      <td>0.0</td>\n",
       "    </tr>\n",
       "    <tr>\n",
       "      <th>Country</th>\n",
       "      <td>0</td>\n",
       "      <td>0.0</td>\n",
       "    </tr>\n",
       "  </tbody>\n",
       "</table>\n",
       "</div>"
      ],
      "text/plain": [
       "                     Missing_Values  Percentage\n",
       "User_ID                           0         0.0\n",
       "Age                               0         0.0\n",
       "ISBN                              0         0.0\n",
       "Book_Rating                       0         0.0\n",
       "Book_Title                        0         0.0\n",
       "Book_Author                       0         0.0\n",
       "Year_Of_Publication               0         0.0\n",
       "Publisher                         0         0.0\n",
       "Country                           0         0.0"
      ]
     },
     "execution_count": 60,
     "metadata": {},
     "output_type": "execute_result"
    }
   ],
   "source": [
    "missing_values(merged_df)"
   ]
  },
  {
   "cell_type": "code",
   "execution_count": 61,
   "id": "59cd6469",
   "metadata": {},
   "outputs": [
    {
     "data": {
      "text/plain": [
       "(1031136, 9)"
      ]
     },
     "execution_count": 61,
     "metadata": {},
     "output_type": "execute_result"
    }
   ],
   "source": [
    "merged_df.shape"
   ]
  },
  {
   "cell_type": "code",
   "execution_count": 62,
   "id": "6b60c65c",
   "metadata": {},
   "outputs": [
    {
     "data": {
      "image/png": "[encoded data removed]",
      "text/plain": [
       "<Figure size 640x480 with 1 Axes>"
      ]
     },
     "metadata": {},
     "output_type": "display_data"
    }
   ],
   "source": [
    "u = merged_df.Age.value_counts().sort_index()\n",
    "plt.bar(u.index, u.values)\n",
    "plt.xlabel('Age')\n",
    "plt.ylabel('Count of Users')\n",
    "plt.xlim(xmin = 0)\n",
    "plt.show()"
   ]
  },
  {
   "cell_type": "code",
   "execution_count": 63,
   "id": "f10ed72e",
   "metadata": {},
   "outputs": [
    {
     "data": {
      "text/plain": [
       "Text(0.5, 1.0, 'Top 10 Publishers')"
      ]
     },
     "execution_count": 63,
     "metadata": {},
     "output_type": "execute_result"
    },
    {
     "data": {
      "image/png": "[encoded data removed]",
      "text/plain": [
       "<Figure size 1500x700 with 1 Axes>"
      ]
     },
     "metadata": {},
     "output_type": "display_data"
    }
   ],
   "source": [
    "plt.figure(figsize=(15,7))\n",
    "sns.countplot(y='Publisher',data=merged_df,order=pd.value_counts(books['Publisher']).iloc[:10].index)\n",
    "plt.title('Top 10 Publishers')"
   ]
  },
  {
   "cell_type": "code",
   "execution_count": 64,
   "id": "63209f47",
   "metadata": {},
   "outputs": [
    {
     "data": {
      "text/plain": [
       "Text(0.5, 1.0, 'Top 10 Authors')"
      ]
     },
     "execution_count": 64,
     "metadata": {},
     "output_type": "execute_result"
    },
    {
     "data": {
      "image/png": "[encoded data removed]",
      "text/plain": [
       "<Figure size 1500x700 with 1 Axes>"
      ]
     },
     "metadata": {},
     "output_type": "display_data"
    }
   ],
   "source": [
    "plt.figure(figsize=(15,7))\n",
    "sns.countplot(y='Book_Author',data=merged_df,order=pd.value_counts(merged_df['Book_Author']).iloc[:10].index)\n",
    "plt.title('Top 10 Authors')"
   ]
  },
  {
   "cell_type": "code",
   "execution_count": 65,
   "id": "35d67a1d",
   "metadata": {},
   "outputs": [
    {
     "name": "stderr",
     "output_type": "stream",
     "text": [
      "C:\\Users\\study\\AppData\\Local\\Temp\\ipykernel_4044\\3899603912.py:1: UserWarning: \n",
      "\n",
      "`distplot` is a deprecated function and will be removed in seaborn v0.14.0.\n",
      "\n",
      "Please adapt your code to use either `displot` (a figure-level function with\n",
      "similar flexibility) or `histplot` (an axes-level function for histograms).\n",
      "\n",
      "For a guide to updating your code to use the new functions, please see\n",
      "https://gist.github.com/mwaskom/de44147ed2974457ad6372750bbe5751\n",
      "\n",
      "  sns.distplot(merged_df.Age)\n"
     ]
    },
    {
     "data": {
      "text/plain": [
       "Text(0.5, 1.0, 'Age Distribution Plot')"
      ]
     },
     "execution_count": 65,
     "metadata": {},
     "output_type": "execute_result"
    },
    {
     "data": {
      "image/png": "[encoded data removed]",
      "text/plain": [
       "<Figure size 640x480 with 1 Axes>"
      ]
     },
     "metadata": {},
     "output_type": "display_data"
    }
   ],
   "source": [
    "sns.distplot(merged_df.Age)\n",
    "plt.title('Age Distribution Plot')"
   ]
  },
  {
   "cell_type": "code",
   "execution_count": 66,
   "id": "cb1a697a",
   "metadata": {},
   "outputs": [
    {
     "data": {
      "text/plain": [
       "Text(0.5, 1.0, 'Count of users Country wise')"
      ]
     },
     "execution_count": 66,
     "metadata": {},
     "output_type": "execute_result"
    },
    {
     "data": {
      "image/png": "[encoded data removed]",
      "text/plain": [
       "<Figure size 1500x700 with 1 Axes>"
      ]
     },
     "metadata": {},
     "output_type": "display_data"
    }
   ],
   "source": [
    "plt.figure(figsize=(15,7))\n",
    "sns.countplot(y='Country',data=merged_df,order=pd.value_counts(merged_df['Country']).iloc[:10].index)\n",
    "plt.title('Count of users Country wise')\n"
   ]
  },
  {
   "cell_type": "code",
   "execution_count": 67,
   "id": "b4a855d1",
   "metadata": {},
   "outputs": [
    {
     "data": {
      "image/png": "[encoded data removed]",
      "text/plain": [
       "<Figure size 640x480 with 1 Axes>"
      ]
     },
     "metadata": {},
     "output_type": "display_data"
    }
   ],
   "source": [
    "# Pie Graph of top five countires.\n",
    "palette_color = sns.color_palette('pastel')\n",
    "explode = (0.1, 0, 0, 0, 0)\n",
    "merged_df.Country.value_counts().iloc[:5].plot(kind='pie', colors=palette_color, autopct='%.0f%%', explode=explode, shadow=True)\n",
    "plt.title('Top 5 countries', fontweight='bold');"
   ]
  },
  {
   "cell_type": "code",
   "execution_count": 68,
   "id": "6bf133dc",
   "metadata": {},
   "outputs": [
    {
     "name": "stderr",
     "output_type": "stream",
     "text": [
      "C:\\Users\\study\\anaconda3\\Lib\\site-packages\\seaborn\\axisgrid.py:118: UserWarning: Tight layout not applied. The left and right margins cannot be made large enough to accommodate all axes decorations.\n",
      "  self._figure.tight_layout(*args, **kwargs)\n",
      "C:\\Users\\study\\anaconda3\\Lib\\site-packages\\seaborn\\axisgrid.py:118: UserWarning: The figure layout has changed to tight\n",
      "  self._figure.tight_layout(*args, **kwargs)\n"
     ]
    },
    {
     "data": {
      "image/png": "[encoded data removed]",
      "text/plain": [
       "<Figure size 657.125x500 with 1 Axes>"
      ]
     },
     "metadata": {},
     "output_type": "display_data"
    }
   ],
   "source": [
    "book_rating = merged_df.groupby(['Book_Title','Book_Author'])['Book_Rating'].agg(['count','mean']).sort_values(by='mean', ascending=False).reset_index()\n",
    "sns.catplot(x='mean', y='Book_Title', data=book_rating[book_rating['count']>500][:10], kind='bar', palette = 'Paired',hue='Book_Author' )\n",
    "plt.xlabel('Average Ratings')\n",
    "plt.ylabel('Books')\n",
    "plt.title('Most Famous Books', fontweight='bold');"
   ]
  },
  {
   "cell_type": "code",
   "execution_count": 69,
   "id": "ec75f5ee",
   "metadata": {},
   "outputs": [
    {
     "data": {
      "image/png": "[encoded data removed]",
      "text/plain": [
       "<Figure size 640x480 with 1 Axes>"
      ]
     },
     "metadata": {},
     "output_type": "display_data"
    }
   ],
   "source": [
    "sns.barplot(x = merged_df['Book_Rating'].value_counts().index,y = merged_df['Book_Rating'].value_counts().values,palette = 'magma').set(title=\"Ratings Distribution\", xlabel = \"Rating\",ylabel = 'Number of books')\n",
    "plt.show();"
   ]
  },
  {
   "cell_type": "code",
   "execution_count": 70,
   "id": "1e5690a0",
   "metadata": {},
   "outputs": [
    {
     "data": {
      "image/png": "[encoded data removed]",
      "text/plain": [
       "<Figure size 640x480 with 1 Axes>"
      ]
     },
     "metadata": {},
     "output_type": "display_data"
    }
   ],
   "source": [
    "sns.countplot(x=\"Book_Rating\",palette='Paired',data=merged_df)\n",
    "plt.title(\"Ratings\",fontweight='bold');"
   ]
  },
  {
   "cell_type": "code",
   "execution_count": 80,
   "id": "a0ad07f5",
   "metadata": {},
   "outputs": [
    {
     "name": "stdout",
     "output_type": "stream",
     "text": [
      "<class 'pandas.core.frame.DataFrame'>\n",
      "RangeIndex: 1031136 entries, 0 to 1031135\n",
      "Data columns (total 11 columns):\n",
      " #   Column               Non-Null Count    Dtype  \n",
      "---  ------               --------------    -----  \n",
      " 0   User_ID              1031136 non-null  int64  \n",
      " 1   Age                  1031136 non-null  float64\n",
      " 2   ISBN                 1031136 non-null  object \n",
      " 3   Book_Rating          1031136 non-null  int64  \n",
      " 4   Book_Title           1031136 non-null  object \n",
      " 5   Book_Author          1031136 non-null  object \n",
      " 6   Year_Of_Publication  1031136 non-null  float64\n",
      " 7   Publisher            1031136 non-null  object \n",
      " 8   Country              1031136 non-null  object \n",
      " 9   Avg_Ratings          1031136 non-null  float64\n",
      " 10  No_Of_Ratings        1031136 non-null  int64  \n",
      "dtypes: float64(3), int64(3), object(5)\n",
      "memory usage: 86.5+ MB\n"
     ]
    }
   ],
   "source": [
    "merged_df.info()\n"
   ]
  },
  {
   "cell_type": "code",
   "execution_count": 84,
   "id": "1e7a3511",
   "metadata": {},
   "outputs": [],
   "source": [
    "merged_df = merged_df.dropna(subset=['Book_Rating'])\n"
   ]
  },
  {
   "cell_type": "code",
   "execution_count": 85,
   "id": "6ec2e31e",
   "metadata": {},
   "outputs": [
    {
     "ename": "ValueError",
     "evalue": "could not convert string to float: '074322678X'",
     "output_type": "error",
     "traceback": [
      "\u001b[1;31m---------------------------------------------------------------------------\u001b[0m",
      "\u001b[1;31mValueError\u001b[0m                                Traceback (most recent call last)",
      "Cell \u001b[1;32mIn[85], line 1\u001b[0m\n\u001b[1;32m----> 1\u001b[0m merged_df\u001b[38;5;241m.\u001b[39mcorr()\n",
      "File \u001b[1;32m~\\anaconda3\\Lib\\site-packages\\pandas\\core\\frame.py:10054\u001b[0m, in \u001b[0;36mDataFrame.corr\u001b[1;34m(self, method, min_periods, numeric_only)\u001b[0m\n\u001b[0;32m  10052\u001b[0m cols \u001b[38;5;241m=\u001b[39m data\u001b[38;5;241m.\u001b[39mcolumns\n\u001b[0;32m  10053\u001b[0m idx \u001b[38;5;241m=\u001b[39m cols\u001b[38;5;241m.\u001b[39mcopy()\n\u001b[1;32m> 10054\u001b[0m mat \u001b[38;5;241m=\u001b[39m data\u001b[38;5;241m.\u001b[39mto_numpy(dtype\u001b[38;5;241m=\u001b[39m\u001b[38;5;28mfloat\u001b[39m, na_value\u001b[38;5;241m=\u001b[39mnp\u001b[38;5;241m.\u001b[39mnan, copy\u001b[38;5;241m=\u001b[39m\u001b[38;5;28;01mFalse\u001b[39;00m)\n\u001b[0;32m  10056\u001b[0m \u001b[38;5;28;01mif\u001b[39;00m method \u001b[38;5;241m==\u001b[39m \u001b[38;5;124m\"\u001b[39m\u001b[38;5;124mpearson\u001b[39m\u001b[38;5;124m\"\u001b[39m:\n\u001b[0;32m  10057\u001b[0m     correl \u001b[38;5;241m=\u001b[39m libalgos\u001b[38;5;241m.\u001b[39mnancorr(mat, minp\u001b[38;5;241m=\u001b[39mmin_periods)\n",
      "File \u001b[1;32m~\\anaconda3\\Lib\\site-packages\\pandas\\core\\frame.py:1838\u001b[0m, in \u001b[0;36mDataFrame.to_numpy\u001b[1;34m(self, dtype, copy, na_value)\u001b[0m\n\u001b[0;32m   1836\u001b[0m \u001b[38;5;28;01mif\u001b[39;00m dtype \u001b[38;5;129;01mis\u001b[39;00m \u001b[38;5;129;01mnot\u001b[39;00m \u001b[38;5;28;01mNone\u001b[39;00m:\n\u001b[0;32m   1837\u001b[0m     dtype \u001b[38;5;241m=\u001b[39m np\u001b[38;5;241m.\u001b[39mdtype(dtype)\n\u001b[1;32m-> 1838\u001b[0m result \u001b[38;5;241m=\u001b[39m \u001b[38;5;28mself\u001b[39m\u001b[38;5;241m.\u001b[39m_mgr\u001b[38;5;241m.\u001b[39mas_array(dtype\u001b[38;5;241m=\u001b[39mdtype, copy\u001b[38;5;241m=\u001b[39mcopy, na_value\u001b[38;5;241m=\u001b[39mna_value)\n\u001b[0;32m   1839\u001b[0m \u001b[38;5;28;01mif\u001b[39;00m result\u001b[38;5;241m.\u001b[39mdtype \u001b[38;5;129;01mis\u001b[39;00m \u001b[38;5;129;01mnot\u001b[39;00m dtype:\n\u001b[0;32m   1840\u001b[0m     result \u001b[38;5;241m=\u001b[39m np\u001b[38;5;241m.\u001b[39marray(result, dtype\u001b[38;5;241m=\u001b[39mdtype, copy\u001b[38;5;241m=\u001b[39m\u001b[38;5;28;01mFalse\u001b[39;00m)\n",
      "File \u001b[1;32m~\\anaconda3\\Lib\\site-packages\\pandas\\core\\internals\\managers.py:1732\u001b[0m, in \u001b[0;36mBlockManager.as_array\u001b[1;34m(self, dtype, copy, na_value)\u001b[0m\n\u001b[0;32m   1730\u001b[0m         arr\u001b[38;5;241m.\u001b[39mflags\u001b[38;5;241m.\u001b[39mwriteable \u001b[38;5;241m=\u001b[39m \u001b[38;5;28;01mFalse\u001b[39;00m\n\u001b[0;32m   1731\u001b[0m \u001b[38;5;28;01melse\u001b[39;00m:\n\u001b[1;32m-> 1732\u001b[0m     arr \u001b[38;5;241m=\u001b[39m \u001b[38;5;28mself\u001b[39m\u001b[38;5;241m.\u001b[39m_interleave(dtype\u001b[38;5;241m=\u001b[39mdtype, na_value\u001b[38;5;241m=\u001b[39mna_value)\n\u001b[0;32m   1733\u001b[0m     \u001b[38;5;66;03m# The underlying data was copied within _interleave, so no need\u001b[39;00m\n\u001b[0;32m   1734\u001b[0m     \u001b[38;5;66;03m# to further copy if copy=True or setting na_value\u001b[39;00m\n\u001b[0;32m   1736\u001b[0m \u001b[38;5;28;01mif\u001b[39;00m na_value \u001b[38;5;129;01mis\u001b[39;00m \u001b[38;5;129;01mnot\u001b[39;00m lib\u001b[38;5;241m.\u001b[39mno_default:\n",
      "File \u001b[1;32m~\\anaconda3\\Lib\\site-packages\\pandas\\core\\internals\\managers.py:1794\u001b[0m, in \u001b[0;36mBlockManager._interleave\u001b[1;34m(self, dtype, na_value)\u001b[0m\n\u001b[0;32m   1792\u001b[0m     \u001b[38;5;28;01melse\u001b[39;00m:\n\u001b[0;32m   1793\u001b[0m         arr \u001b[38;5;241m=\u001b[39m blk\u001b[38;5;241m.\u001b[39mget_values(dtype)\n\u001b[1;32m-> 1794\u001b[0m     result[rl\u001b[38;5;241m.\u001b[39mindexer] \u001b[38;5;241m=\u001b[39m arr\n\u001b[0;32m   1795\u001b[0m     itemmask[rl\u001b[38;5;241m.\u001b[39mindexer] \u001b[38;5;241m=\u001b[39m \u001b[38;5;241m1\u001b[39m\n\u001b[0;32m   1797\u001b[0m \u001b[38;5;28;01mif\u001b[39;00m \u001b[38;5;129;01mnot\u001b[39;00m itemmask\u001b[38;5;241m.\u001b[39mall():\n",
      "\u001b[1;31mValueError\u001b[0m: could not convert string to float: '074322678X'"
     ]
    }
   ],
   "source": [
    "merged_df.corr()\n",
    "\n"
   ]
  },
  {
   "cell_type": "code",
   "execution_count": null,
   "id": "c89f498f",
   "metadata": {},
   "outputs": [],
   "source": []
  },
  {
   "cell_type": "code",
   "execution_count": null,
   "id": "0ab31949",
   "metadata": {},
   "outputs": [],
   "source": []
  },
  {
   "cell_type": "code",
   "execution_count": null,
   "id": "9a9b829b",
   "metadata": {},
   "outputs": [],
   "source": []
  },
  {
   "cell_type": "code",
   "execution_count": null,
   "id": "2a1ecd97",
   "metadata": {},
   "outputs": [],
   "source": []
  },
  {
   "cell_type": "code",
   "execution_count": 72,
   "id": "319493f3",
   "metadata": {},
   "outputs": [],
   "source": [
    "merged_df['Avg_Ratings'] =  merged_df.groupby('Book_Title')['Book_Rating'].transform('mean')"
   ]
  },
  {
   "cell_type": "code",
   "execution_count": 73,
   "id": "c7b10aec",
   "metadata": {},
   "outputs": [],
   "source": [
    "merged_df['No_Of_Ratings'] = merged_df.groupby('Book_Title')['Book_Rating'].transform('count')"
   ]
  },
  {
   "cell_type": "code",
   "execution_count": 74,
   "id": "c43475e8",
   "metadata": {},
   "outputs": [],
   "source": [
    "popular_df = merged_df[['Book_Title','Avg_Ratings','No_Of_Ratings']]"
   ]
  },
  {
   "cell_type": "code",
   "execution_count": 75,
   "id": "0e86bd36",
   "metadata": {},
   "outputs": [
    {
     "name": "stderr",
     "output_type": "stream",
     "text": [
      "C:\\Users\\study\\AppData\\Local\\Temp\\ipykernel_4044\\3707401356.py:1: SettingWithCopyWarning: \n",
      "A value is trying to be set on a copy of a slice from a DataFrame\n",
      "\n",
      "See the caveats in the documentation: https://pandas.pydata.org/pandas-docs/stable/user_guide/indexing.html#returning-a-view-versus-a-copy\n",
      "  popular_df.drop_duplicates('Book_Title',inplace=True)\n"
     ]
    }
   ],
   "source": [
    "popular_df.drop_duplicates('Book_Title',inplace=True)"
   ]
  },
  {
   "cell_type": "code",
   "execution_count": 76,
   "id": "70c11c4a",
   "metadata": {},
   "outputs": [
    {
     "data": {
      "text/html": [
       "<div>\n",
       "<style scoped>\n",
       "    .dataframe tbody tr th:only-of-type {\n",
       "        vertical-align: middle;\n",
       "    }\n",
       "\n",
       "    .dataframe tbody tr th {\n",
       "        vertical-align: top;\n",
       "    }\n",
       "\n",
       "    .dataframe thead th {\n",
       "        text-align: right;\n",
       "    }\n",
       "</style>\n",
       "<table border=\"1\" class=\"dataframe\">\n",
       "  <thead>\n",
       "    <tr style=\"text-align: right;\">\n",
       "      <th></th>\n",
       "      <th>Book_Title</th>\n",
       "      <th>Avg_Ratings</th>\n",
       "      <th>No_Of_Ratings</th>\n",
       "    </tr>\n",
       "  </thead>\n",
       "  <tbody>\n",
       "    <tr>\n",
       "      <th>0</th>\n",
       "      <td>Classical Mythology</td>\n",
       "      <td>3.500000</td>\n",
       "      <td>2</td>\n",
       "    </tr>\n",
       "    <tr>\n",
       "      <th>1</th>\n",
       "      <td>Clara Callan</td>\n",
       "      <td>4.928571</td>\n",
       "      <td>14</td>\n",
       "    </tr>\n",
       "    <tr>\n",
       "      <th>15</th>\n",
       "      <td>Decision in Normandy</td>\n",
       "      <td>5.000000</td>\n",
       "      <td>3</td>\n",
       "    </tr>\n",
       "    <tr>\n",
       "      <th>18</th>\n",
       "      <td>Flu: The Story of the Great Influenza Pandemic...</td>\n",
       "      <td>4.272727</td>\n",
       "      <td>11</td>\n",
       "    </tr>\n",
       "    <tr>\n",
       "      <th>29</th>\n",
       "      <td>The Mummies of Urumchi</td>\n",
       "      <td>0.000000</td>\n",
       "      <td>1</td>\n",
       "    </tr>\n",
       "  </tbody>\n",
       "</table>\n",
       "</div>"
      ],
      "text/plain": [
       "                                           Book_Title  Avg_Ratings  \\\n",
       "0                                 Classical Mythology     3.500000   \n",
       "1                                        Clara Callan     4.928571   \n",
       "15                               Decision in Normandy     5.000000   \n",
       "18  Flu: The Story of the Great Influenza Pandemic...     4.272727   \n",
       "29                             The Mummies of Urumchi     0.000000   \n",
       "\n",
       "    No_Of_Ratings  \n",
       "0               2  \n",
       "1              14  \n",
       "15              3  \n",
       "18             11  \n",
       "29              1  "
      ]
     },
     "execution_count": 76,
     "metadata": {},
     "output_type": "execute_result"
    }
   ],
   "source": [
    "popular_df.head()"
   ]
  },
  {
   "cell_type": "code",
   "execution_count": 77,
   "id": "5df6f39b",
   "metadata": {},
   "outputs": [],
   "source": [
    "popular_df = popular_df[popular_df['No_Of_Ratings']>200].sort_values('Avg_Ratings',ascending=False)"
   ]
  },
  {
   "cell_type": "code",
   "execution_count": 78,
   "id": "f404e501",
   "metadata": {},
   "outputs": [
    {
     "data": {
      "text/html": [
       "<div>\n",
       "<style scoped>\n",
       "    .dataframe tbody tr th:only-of-type {\n",
       "        vertical-align: middle;\n",
       "    }\n",
       "\n",
       "    .dataframe tbody tr th {\n",
       "        vertical-align: top;\n",
       "    }\n",
       "\n",
       "    .dataframe thead th {\n",
       "        text-align: right;\n",
       "    }\n",
       "</style>\n",
       "<table border=\"1\" class=\"dataframe\">\n",
       "  <thead>\n",
       "    <tr style=\"text-align: right;\">\n",
       "      <th></th>\n",
       "      <th>Book_Title</th>\n",
       "      <th>Avg_Ratings</th>\n",
       "      <th>No_Of_Ratings</th>\n",
       "    </tr>\n",
       "  </thead>\n",
       "  <tbody>\n",
       "    <tr>\n",
       "      <th>32601</th>\n",
       "      <td>Harry Potter and the Prisoner of Azkaban (Book 3)</td>\n",
       "      <td>5.852804</td>\n",
       "      <td>428</td>\n",
       "    </tr>\n",
       "    <tr>\n",
       "      <th>33024</th>\n",
       "      <td>Harry Potter and the Goblet of Fire (Book 4)</td>\n",
       "      <td>5.824289</td>\n",
       "      <td>387</td>\n",
       "    </tr>\n",
       "    <tr>\n",
       "      <th>37538</th>\n",
       "      <td>Harry Potter and the Sorcerer's Stone (Book 1)</td>\n",
       "      <td>5.737410</td>\n",
       "      <td>278</td>\n",
       "    </tr>\n",
       "    <tr>\n",
       "      <th>33218</th>\n",
       "      <td>Harry Potter and the Order of the Phoenix (Boo...</td>\n",
       "      <td>5.501441</td>\n",
       "      <td>347</td>\n",
       "    </tr>\n",
       "    <tr>\n",
       "      <th>72126</th>\n",
       "      <td>Ender's Game (Ender Wiggins Saga (Paperback))</td>\n",
       "      <td>5.409639</td>\n",
       "      <td>249</td>\n",
       "    </tr>\n",
       "    <tr>\n",
       "      <th>32080</th>\n",
       "      <td>Harry Potter and the Chamber of Secrets (Book 2)</td>\n",
       "      <td>5.183453</td>\n",
       "      <td>556</td>\n",
       "    </tr>\n",
       "    <tr>\n",
       "      <th>167539</th>\n",
       "      <td>The Hobbit : The Enchanting Prelude to The Lor...</td>\n",
       "      <td>5.007117</td>\n",
       "      <td>281</td>\n",
       "    </tr>\n",
       "    <tr>\n",
       "      <th>37807</th>\n",
       "      <td>The Fellowship of the Ring (The Lord of the Ri...</td>\n",
       "      <td>4.948370</td>\n",
       "      <td>368</td>\n",
       "    </tr>\n",
       "    <tr>\n",
       "      <th>125266</th>\n",
       "      <td>Harry Potter and the Sorcerer's Stone (Harry P...</td>\n",
       "      <td>4.895652</td>\n",
       "      <td>575</td>\n",
       "    </tr>\n",
       "    <tr>\n",
       "      <th>37870</th>\n",
       "      <td>The Two Towers (The Lord of the Rings, Part 2)</td>\n",
       "      <td>4.880769</td>\n",
       "      <td>260</td>\n",
       "    </tr>\n",
       "  </tbody>\n",
       "</table>\n",
       "</div>"
      ],
      "text/plain": [
       "                                               Book_Title  Avg_Ratings  \\\n",
       "32601   Harry Potter and the Prisoner of Azkaban (Book 3)     5.852804   \n",
       "33024        Harry Potter and the Goblet of Fire (Book 4)     5.824289   \n",
       "37538      Harry Potter and the Sorcerer's Stone (Book 1)     5.737410   \n",
       "33218   Harry Potter and the Order of the Phoenix (Boo...     5.501441   \n",
       "72126       Ender's Game (Ender Wiggins Saga (Paperback))     5.409639   \n",
       "32080    Harry Potter and the Chamber of Secrets (Book 2)     5.183453   \n",
       "167539  The Hobbit : The Enchanting Prelude to The Lor...     5.007117   \n",
       "37807   The Fellowship of the Ring (The Lord of the Ri...     4.948370   \n",
       "125266  Harry Potter and the Sorcerer's Stone (Harry P...     4.895652   \n",
       "37870      The Two Towers (The Lord of the Rings, Part 2)     4.880769   \n",
       "\n",
       "        No_Of_Ratings  \n",
       "32601             428  \n",
       "33024             387  \n",
       "37538             278  \n",
       "33218             347  \n",
       "72126             249  \n",
       "32080             556  \n",
       "167539            281  \n",
       "37807             368  \n",
       "125266            575  \n",
       "37870             260  "
      ]
     },
     "execution_count": 78,
     "metadata": {},
     "output_type": "execute_result"
    }
   ],
   "source": [
    "popular_df.head(10)"
   ]
  },
  {
   "cell_type": "code",
   "execution_count": 79,
   "id": "995567ba",
   "metadata": {},
   "outputs": [
    {
     "data": {
      "text/plain": [
       "(1031136, 11)"
      ]
     },
     "execution_count": 79,
     "metadata": {},
     "output_type": "execute_result"
    }
   ],
   "source": [
    "merged_df.shape"
   ]
  },
  {
   "cell_type": "code",
   "execution_count": 86,
   "id": "619f34c4",
   "metadata": {},
   "outputs": [
    {
     "data": {
      "text/plain": [
       "Index(['User_ID', 'Age', 'ISBN', 'Book_Rating', 'Book_Title', 'Book_Author',\n",
       "       'Year_Of_Publication', 'Publisher', 'Country', 'Avg_Ratings',\n",
       "       'No_Of_Ratings'],\n",
       "      dtype='object')"
      ]
     },
     "execution_count": 86,
     "metadata": {},
     "output_type": "execute_result"
    }
   ],
   "source": [
    "merged_df.columns"
   ]
  },
  {
   "cell_type": "code",
   "execution_count": 87,
   "id": "86f01f11",
   "metadata": {},
   "outputs": [],
   "source": [
    "x = merged_df.groupby('User_ID').count()['Book_Rating'] > 180"
   ]
  },
  {
   "cell_type": "code",
   "execution_count": 88,
   "id": "0ba515b4",
   "metadata": {},
   "outputs": [
    {
     "data": {
      "text/plain": [
       "User_ID\n",
       "254       True\n",
       "2033      True\n",
       "2276      True\n",
       "2766      True\n",
       "2977      True\n",
       "          ... \n",
       "277427    True\n",
       "277478    True\n",
       "277639    True\n",
       "278188    True\n",
       "278418    True\n",
       "Name: Book_Rating, Length: 918, dtype: bool"
      ]
     },
     "execution_count": 88,
     "metadata": {},
     "output_type": "execute_result"
    }
   ],
   "source": [
    "x[x]"
   ]
  },
  {
   "cell_type": "code",
   "execution_count": 89,
   "id": "401853ea",
   "metadata": {},
   "outputs": [
    {
     "data": {
      "text/plain": [
       "0          False\n",
       "1          False\n",
       "2          False\n",
       "3           True\n",
       "4          False\n",
       "           ...  \n",
       "1031131    False\n",
       "1031132    False\n",
       "1031133    False\n",
       "1031134    False\n",
       "1031135    False\n",
       "Name: User_ID, Length: 1031136, dtype: bool"
      ]
     },
     "execution_count": 89,
     "metadata": {},
     "output_type": "execute_result"
    }
   ],
   "source": [
    "merged_df['User_ID'].isin(x[x].index)"
   ]
  },
  {
   "cell_type": "code",
   "execution_count": 90,
   "id": "9ba318ad",
   "metadata": {},
   "outputs": [
    {
     "name": "stdout",
     "output_type": "stream",
     "text": [
      "Shape of merged dataframe :  (1031136, 11)\n"
     ]
    }
   ],
   "source": [
    "print(\"Shape of merged dataframe : \",merged_df.shape)"
   ]
  },
  {
   "cell_type": "code",
   "execution_count": 91,
   "id": "b8e6af72",
   "metadata": {},
   "outputs": [],
   "source": [
    "merged_df = merged_df[merged_df['Book_Rating']!=0]"
   ]
  },
  {
   "cell_type": "code",
   "execution_count": 92,
   "id": "f4ee2d71",
   "metadata": {},
   "outputs": [
    {
     "name": "stdout",
     "output_type": "stream",
     "text": [
      "Shape of merged new dataframe :  (383842, 11)\n"
     ]
    }
   ],
   "source": [
    "print(\"Shape of merged new dataframe : \",merged_df.shape)"
   ]
  },
  {
   "cell_type": "code",
   "execution_count": 93,
   "id": "e62fe353",
   "metadata": {},
   "outputs": [],
   "source": [
    "x = merged_df.groupby('User_ID').count()['Book_Rating'] >180\n",
    "filtered_df = merged_df[merged_df['User_ID'].isin(x[x].index)]"
   ]
  },
  {
   "cell_type": "code",
   "execution_count": 94,
   "id": "7fee6b08",
   "metadata": {},
   "outputs": [],
   "source": [
    "y = merged_df.groupby('Book_Title').count()['Book_Rating'] >50\n",
    "filtered_df = filtered_df[filtered_df['Book_Title'].isin(y[y].index)]"
   ]
  },
  {
   "cell_type": "code",
   "execution_count": 95,
   "id": "7f65b529",
   "metadata": {},
   "outputs": [
    {
     "data": {
      "text/plain": [
       "(5432, 11)"
      ]
     },
     "execution_count": 95,
     "metadata": {},
     "output_type": "execute_result"
    }
   ],
   "source": [
    "filtered_df.shape"
   ]
  },
  {
   "cell_type": "code",
   "execution_count": 96,
   "id": "a2ac6b51",
   "metadata": {},
   "outputs": [
    {
     "data": {
      "text/html": [
       "<div>\n",
       "<style scoped>\n",
       "    .dataframe tbody tr th:only-of-type {\n",
       "        vertical-align: middle;\n",
       "    }\n",
       "\n",
       "    .dataframe tbody tr th {\n",
       "        vertical-align: top;\n",
       "    }\n",
       "\n",
       "    .dataframe thead th {\n",
       "        text-align: right;\n",
       "    }\n",
       "</style>\n",
       "<table border=\"1\" class=\"dataframe\">\n",
       "  <thead>\n",
       "    <tr style=\"text-align: right;\">\n",
       "      <th></th>\n",
       "      <th>User_ID</th>\n",
       "      <th>Age</th>\n",
       "      <th>ISBN</th>\n",
       "      <th>Book_Rating</th>\n",
       "      <th>Book_Title</th>\n",
       "      <th>Book_Author</th>\n",
       "      <th>Year_Of_Publication</th>\n",
       "      <th>Publisher</th>\n",
       "      <th>Country</th>\n",
       "      <th>Avg_Ratings</th>\n",
       "      <th>No_Of_Ratings</th>\n",
       "    </tr>\n",
       "  </thead>\n",
       "  <tbody>\n",
       "    <tr>\n",
       "      <th>31</th>\n",
       "      <td>11676</td>\n",
       "      <td>37.0</td>\n",
       "      <td>0399135782</td>\n",
       "      <td>9</td>\n",
       "      <td>The Kitchen God's Wife</td>\n",
       "      <td>Amy Tan</td>\n",
       "      <td>1991.0</td>\n",
       "      <td>Putnam Pub Group</td>\n",
       "      <td>other</td>\n",
       "      <td>2.996785</td>\n",
       "      <td>311</td>\n",
       "    </tr>\n",
       "    <tr>\n",
       "      <th>34</th>\n",
       "      <td>46398</td>\n",
       "      <td>37.0</td>\n",
       "      <td>0399135782</td>\n",
       "      <td>9</td>\n",
       "      <td>The Kitchen God's Wife</td>\n",
       "      <td>Amy Tan</td>\n",
       "      <td>1991.0</td>\n",
       "      <td>Putnam Pub Group</td>\n",
       "      <td>usa</td>\n",
       "      <td>2.996785</td>\n",
       "      <td>311</td>\n",
       "    </tr>\n",
       "    <tr>\n",
       "      <th>54</th>\n",
       "      <td>230522</td>\n",
       "      <td>52.0</td>\n",
       "      <td>0399135782</td>\n",
       "      <td>7</td>\n",
       "      <td>The Kitchen God's Wife</td>\n",
       "      <td>Amy Tan</td>\n",
       "      <td>1991.0</td>\n",
       "      <td>Putnam Pub Group</td>\n",
       "      <td>usa</td>\n",
       "      <td>2.996785</td>\n",
       "      <td>311</td>\n",
       "    </tr>\n",
       "    <tr>\n",
       "      <th>58</th>\n",
       "      <td>245827</td>\n",
       "      <td>37.0</td>\n",
       "      <td>0399135782</td>\n",
       "      <td>9</td>\n",
       "      <td>The Kitchen God's Wife</td>\n",
       "      <td>Amy Tan</td>\n",
       "      <td>1991.0</td>\n",
       "      <td>Putnam Pub Group</td>\n",
       "      <td>other</td>\n",
       "      <td>2.996785</td>\n",
       "      <td>311</td>\n",
       "    </tr>\n",
       "    <tr>\n",
       "      <th>106</th>\n",
       "      <td>7346</td>\n",
       "      <td>49.0</td>\n",
       "      <td>0440234743</td>\n",
       "      <td>9</td>\n",
       "      <td>The Testament</td>\n",
       "      <td>John Grisham</td>\n",
       "      <td>1999.0</td>\n",
       "      <td>Dell</td>\n",
       "      <td>usa</td>\n",
       "      <td>3.179903</td>\n",
       "      <td>617</td>\n",
       "    </tr>\n",
       "  </tbody>\n",
       "</table>\n",
       "</div>"
      ],
      "text/plain": [
       "     User_ID   Age        ISBN  Book_Rating              Book_Title  \\\n",
       "31     11676  37.0  0399135782            9  The Kitchen God's Wife   \n",
       "34     46398  37.0  0399135782            9  The Kitchen God's Wife   \n",
       "54    230522  52.0  0399135782            7  The Kitchen God's Wife   \n",
       "58    245827  37.0  0399135782            9  The Kitchen God's Wife   \n",
       "106     7346  49.0  0440234743            9           The Testament   \n",
       "\n",
       "      Book_Author  Year_Of_Publication         Publisher Country  Avg_Ratings  \\\n",
       "31        Amy Tan               1991.0  Putnam Pub Group   other     2.996785   \n",
       "34        Amy Tan               1991.0  Putnam Pub Group     usa     2.996785   \n",
       "54        Amy Tan               1991.0  Putnam Pub Group     usa     2.996785   \n",
       "58        Amy Tan               1991.0  Putnam Pub Group   other     2.996785   \n",
       "106  John Grisham               1999.0              Dell     usa     3.179903   \n",
       "\n",
       "     No_Of_Ratings  \n",
       "31             311  \n",
       "34             311  \n",
       "54             311  \n",
       "58             311  \n",
       "106            617  "
      ]
     },
     "execution_count": 96,
     "metadata": {},
     "output_type": "execute_result"
    }
   ],
   "source": [
    "filtered_df.head()"
   ]
  },
  {
   "cell_type": "code",
   "execution_count": 97,
   "id": "8e0c1eda",
   "metadata": {},
   "outputs": [
    {
     "data": {
      "text/html": [
       "<div>\n",
       "<style scoped>\n",
       "    .dataframe tbody tr th:only-of-type {\n",
       "        vertical-align: middle;\n",
       "    }\n",
       "\n",
       "    .dataframe tbody tr th {\n",
       "        vertical-align: top;\n",
       "    }\n",
       "\n",
       "    .dataframe thead th {\n",
       "        text-align: right;\n",
       "    }\n",
       "</style>\n",
       "<table border=\"1\" class=\"dataframe\">\n",
       "  <thead>\n",
       "    <tr style=\"text-align: right;\">\n",
       "      <th>User_ID</th>\n",
       "      <th>2276</th>\n",
       "      <th>4385</th>\n",
       "      <th>6251</th>\n",
       "      <th>6575</th>\n",
       "      <th>7346</th>\n",
       "      <th>11676</th>\n",
       "      <th>12982</th>\n",
       "      <th>13552</th>\n",
       "      <th>16634</th>\n",
       "      <th>16795</th>\n",
       "      <th>...</th>\n",
       "      <th>258534</th>\n",
       "      <th>261829</th>\n",
       "      <th>262998</th>\n",
       "      <th>264321</th>\n",
       "      <th>265115</th>\n",
       "      <th>265889</th>\n",
       "      <th>268932</th>\n",
       "      <th>269566</th>\n",
       "      <th>270713</th>\n",
       "      <th>274061</th>\n",
       "    </tr>\n",
       "    <tr>\n",
       "      <th>Book_Title</th>\n",
       "      <th></th>\n",
       "      <th></th>\n",
       "      <th></th>\n",
       "      <th></th>\n",
       "      <th></th>\n",
       "      <th></th>\n",
       "      <th></th>\n",
       "      <th></th>\n",
       "      <th></th>\n",
       "      <th></th>\n",
       "      <th></th>\n",
       "      <th></th>\n",
       "      <th></th>\n",
       "      <th></th>\n",
       "      <th></th>\n",
       "      <th></th>\n",
       "      <th></th>\n",
       "      <th></th>\n",
       "      <th></th>\n",
       "      <th></th>\n",
       "      <th></th>\n",
       "    </tr>\n",
       "  </thead>\n",
       "  <tbody>\n",
       "    <tr>\n",
       "      <th>1984</th>\n",
       "      <td>0.0</td>\n",
       "      <td>0.0</td>\n",
       "      <td>0.0</td>\n",
       "      <td>0.0</td>\n",
       "      <td>8.0</td>\n",
       "      <td>10.000000</td>\n",
       "      <td>0.0</td>\n",
       "      <td>0.0</td>\n",
       "      <td>0.0</td>\n",
       "      <td>8.0</td>\n",
       "      <td>...</td>\n",
       "      <td>0.0</td>\n",
       "      <td>0.0</td>\n",
       "      <td>0.0</td>\n",
       "      <td>0.0</td>\n",
       "      <td>0.0</td>\n",
       "      <td>0.0</td>\n",
       "      <td>0.0</td>\n",
       "      <td>0.0</td>\n",
       "      <td>0.0</td>\n",
       "      <td>0.0</td>\n",
       "    </tr>\n",
       "    <tr>\n",
       "      <th>1st to Die: A Novel</th>\n",
       "      <td>0.0</td>\n",
       "      <td>0.0</td>\n",
       "      <td>0.0</td>\n",
       "      <td>0.0</td>\n",
       "      <td>0.0</td>\n",
       "      <td>9.000000</td>\n",
       "      <td>0.0</td>\n",
       "      <td>0.0</td>\n",
       "      <td>0.0</td>\n",
       "      <td>9.0</td>\n",
       "      <td>...</td>\n",
       "      <td>6.0</td>\n",
       "      <td>8.0</td>\n",
       "      <td>0.0</td>\n",
       "      <td>0.0</td>\n",
       "      <td>0.0</td>\n",
       "      <td>0.0</td>\n",
       "      <td>0.0</td>\n",
       "      <td>0.0</td>\n",
       "      <td>0.0</td>\n",
       "      <td>0.0</td>\n",
       "    </tr>\n",
       "    <tr>\n",
       "      <th>2nd Chance</th>\n",
       "      <td>10.0</td>\n",
       "      <td>0.0</td>\n",
       "      <td>0.0</td>\n",
       "      <td>0.0</td>\n",
       "      <td>0.0</td>\n",
       "      <td>7.500000</td>\n",
       "      <td>0.0</td>\n",
       "      <td>0.0</td>\n",
       "      <td>0.0</td>\n",
       "      <td>0.0</td>\n",
       "      <td>...</td>\n",
       "      <td>0.0</td>\n",
       "      <td>7.5</td>\n",
       "      <td>0.0</td>\n",
       "      <td>0.0</td>\n",
       "      <td>0.0</td>\n",
       "      <td>0.0</td>\n",
       "      <td>0.0</td>\n",
       "      <td>0.0</td>\n",
       "      <td>0.0</td>\n",
       "      <td>0.0</td>\n",
       "    </tr>\n",
       "    <tr>\n",
       "      <th>4 Blondes</th>\n",
       "      <td>0.0</td>\n",
       "      <td>0.0</td>\n",
       "      <td>0.0</td>\n",
       "      <td>0.0</td>\n",
       "      <td>0.0</td>\n",
       "      <td>0.000000</td>\n",
       "      <td>0.0</td>\n",
       "      <td>0.0</td>\n",
       "      <td>0.0</td>\n",
       "      <td>0.0</td>\n",
       "      <td>...</td>\n",
       "      <td>0.0</td>\n",
       "      <td>0.0</td>\n",
       "      <td>0.0</td>\n",
       "      <td>5.0</td>\n",
       "      <td>0.0</td>\n",
       "      <td>0.0</td>\n",
       "      <td>0.0</td>\n",
       "      <td>0.0</td>\n",
       "      <td>0.0</td>\n",
       "      <td>0.0</td>\n",
       "    </tr>\n",
       "    <tr>\n",
       "      <th>84 Charing Cross Road</th>\n",
       "      <td>0.0</td>\n",
       "      <td>0.0</td>\n",
       "      <td>0.0</td>\n",
       "      <td>0.0</td>\n",
       "      <td>0.0</td>\n",
       "      <td>8.333333</td>\n",
       "      <td>0.0</td>\n",
       "      <td>0.0</td>\n",
       "      <td>0.0</td>\n",
       "      <td>0.0</td>\n",
       "      <td>...</td>\n",
       "      <td>0.0</td>\n",
       "      <td>0.0</td>\n",
       "      <td>0.0</td>\n",
       "      <td>0.0</td>\n",
       "      <td>0.0</td>\n",
       "      <td>0.0</td>\n",
       "      <td>0.0</td>\n",
       "      <td>0.0</td>\n",
       "      <td>0.0</td>\n",
       "      <td>0.0</td>\n",
       "    </tr>\n",
       "    <tr>\n",
       "      <th>...</th>\n",
       "      <td>...</td>\n",
       "      <td>...</td>\n",
       "      <td>...</td>\n",
       "      <td>...</td>\n",
       "      <td>...</td>\n",
       "      <td>...</td>\n",
       "      <td>...</td>\n",
       "      <td>...</td>\n",
       "      <td>...</td>\n",
       "      <td>...</td>\n",
       "      <td>...</td>\n",
       "      <td>...</td>\n",
       "      <td>...</td>\n",
       "      <td>...</td>\n",
       "      <td>...</td>\n",
       "      <td>...</td>\n",
       "      <td>...</td>\n",
       "      <td>...</td>\n",
       "      <td>...</td>\n",
       "      <td>...</td>\n",
       "      <td>...</td>\n",
       "    </tr>\n",
       "    <tr>\n",
       "      <th>Wizard and Glass (The Dark Tower, Book 4)</th>\n",
       "      <td>0.0</td>\n",
       "      <td>0.0</td>\n",
       "      <td>0.0</td>\n",
       "      <td>0.0</td>\n",
       "      <td>0.0</td>\n",
       "      <td>10.000000</td>\n",
       "      <td>0.0</td>\n",
       "      <td>0.0</td>\n",
       "      <td>9.0</td>\n",
       "      <td>0.0</td>\n",
       "      <td>...</td>\n",
       "      <td>0.0</td>\n",
       "      <td>0.0</td>\n",
       "      <td>0.0</td>\n",
       "      <td>0.0</td>\n",
       "      <td>0.0</td>\n",
       "      <td>0.0</td>\n",
       "      <td>0.0</td>\n",
       "      <td>0.0</td>\n",
       "      <td>0.0</td>\n",
       "      <td>0.0</td>\n",
       "    </tr>\n",
       "    <tr>\n",
       "      <th>Wuthering Heights</th>\n",
       "      <td>0.0</td>\n",
       "      <td>0.0</td>\n",
       "      <td>0.0</td>\n",
       "      <td>0.0</td>\n",
       "      <td>0.0</td>\n",
       "      <td>10.000000</td>\n",
       "      <td>0.0</td>\n",
       "      <td>0.0</td>\n",
       "      <td>8.0</td>\n",
       "      <td>0.0</td>\n",
       "      <td>...</td>\n",
       "      <td>0.0</td>\n",
       "      <td>0.0</td>\n",
       "      <td>0.0</td>\n",
       "      <td>0.0</td>\n",
       "      <td>0.0</td>\n",
       "      <td>0.0</td>\n",
       "      <td>0.0</td>\n",
       "      <td>0.0</td>\n",
       "      <td>0.0</td>\n",
       "      <td>0.0</td>\n",
       "    </tr>\n",
       "    <tr>\n",
       "      <th>Year of Wonders</th>\n",
       "      <td>0.0</td>\n",
       "      <td>0.0</td>\n",
       "      <td>0.0</td>\n",
       "      <td>0.0</td>\n",
       "      <td>0.0</td>\n",
       "      <td>0.000000</td>\n",
       "      <td>0.0</td>\n",
       "      <td>0.0</td>\n",
       "      <td>0.0</td>\n",
       "      <td>0.0</td>\n",
       "      <td>...</td>\n",
       "      <td>0.0</td>\n",
       "      <td>0.0</td>\n",
       "      <td>0.0</td>\n",
       "      <td>0.0</td>\n",
       "      <td>0.0</td>\n",
       "      <td>0.0</td>\n",
       "      <td>0.0</td>\n",
       "      <td>0.0</td>\n",
       "      <td>0.0</td>\n",
       "      <td>0.0</td>\n",
       "    </tr>\n",
       "    <tr>\n",
       "      <th>Zen and the Art of Motorcycle Maintenance: An Inquiry into Values</th>\n",
       "      <td>0.0</td>\n",
       "      <td>0.0</td>\n",
       "      <td>0.0</td>\n",
       "      <td>0.0</td>\n",
       "      <td>0.0</td>\n",
       "      <td>7.000000</td>\n",
       "      <td>0.0</td>\n",
       "      <td>0.0</td>\n",
       "      <td>0.0</td>\n",
       "      <td>0.0</td>\n",
       "      <td>...</td>\n",
       "      <td>0.0</td>\n",
       "      <td>0.0</td>\n",
       "      <td>0.0</td>\n",
       "      <td>0.0</td>\n",
       "      <td>0.0</td>\n",
       "      <td>0.0</td>\n",
       "      <td>0.0</td>\n",
       "      <td>0.0</td>\n",
       "      <td>0.0</td>\n",
       "      <td>0.0</td>\n",
       "    </tr>\n",
       "    <tr>\n",
       "      <th>\\O\\\" Is for Outlaw\"</th>\n",
       "      <td>0.0</td>\n",
       "      <td>0.0</td>\n",
       "      <td>0.0</td>\n",
       "      <td>0.0</td>\n",
       "      <td>8.0</td>\n",
       "      <td>7.000000</td>\n",
       "      <td>0.0</td>\n",
       "      <td>0.0</td>\n",
       "      <td>0.0</td>\n",
       "      <td>0.0</td>\n",
       "      <td>...</td>\n",
       "      <td>9.0</td>\n",
       "      <td>0.0</td>\n",
       "      <td>0.0</td>\n",
       "      <td>0.0</td>\n",
       "      <td>0.0</td>\n",
       "      <td>0.0</td>\n",
       "      <td>0.0</td>\n",
       "      <td>0.0</td>\n",
       "      <td>0.0</td>\n",
       "      <td>0.0</td>\n",
       "    </tr>\n",
       "  </tbody>\n",
       "</table>\n",
       "<p>625 rows × 155 columns</p>\n",
       "</div>"
      ],
      "text/plain": [
       "User_ID                                             2276    4385    6251    \\\n",
       "Book_Title                                                                   \n",
       "1984                                                   0.0     0.0     0.0   \n",
       "1st to Die: A Novel                                    0.0     0.0     0.0   \n",
       "2nd Chance                                            10.0     0.0     0.0   \n",
       "4 Blondes                                              0.0     0.0     0.0   \n",
       "84 Charing Cross Road                                  0.0     0.0     0.0   \n",
       "...                                                    ...     ...     ...   \n",
       "Wizard and Glass (The Dark Tower, Book 4)              0.0     0.0     0.0   \n",
       "Wuthering Heights                                      0.0     0.0     0.0   \n",
       "Year of Wonders                                        0.0     0.0     0.0   \n",
       "Zen and the Art of Motorcycle Maintenance: An I...     0.0     0.0     0.0   \n",
       "\\O\\\" Is for Outlaw\"                                    0.0     0.0     0.0   \n",
       "\n",
       "User_ID                                             6575    7346       11676   \\\n",
       "Book_Title                                                                      \n",
       "1984                                                   0.0     8.0  10.000000   \n",
       "1st to Die: A Novel                                    0.0     0.0   9.000000   \n",
       "2nd Chance                                             0.0     0.0   7.500000   \n",
       "4 Blondes                                              0.0     0.0   0.000000   \n",
       "84 Charing Cross Road                                  0.0     0.0   8.333333   \n",
       "...                                                    ...     ...        ...   \n",
       "Wizard and Glass (The Dark Tower, Book 4)              0.0     0.0  10.000000   \n",
       "Wuthering Heights                                      0.0     0.0  10.000000   \n",
       "Year of Wonders                                        0.0     0.0   0.000000   \n",
       "Zen and the Art of Motorcycle Maintenance: An I...     0.0     0.0   7.000000   \n",
       "\\O\\\" Is for Outlaw\"                                    0.0     8.0   7.000000   \n",
       "\n",
       "User_ID                                             12982   13552   16634   \\\n",
       "Book_Title                                                                   \n",
       "1984                                                   0.0     0.0     0.0   \n",
       "1st to Die: A Novel                                    0.0     0.0     0.0   \n",
       "2nd Chance                                             0.0     0.0     0.0   \n",
       "4 Blondes                                              0.0     0.0     0.0   \n",
       "84 Charing Cross Road                                  0.0     0.0     0.0   \n",
       "...                                                    ...     ...     ...   \n",
       "Wizard and Glass (The Dark Tower, Book 4)              0.0     0.0     9.0   \n",
       "Wuthering Heights                                      0.0     0.0     8.0   \n",
       "Year of Wonders                                        0.0     0.0     0.0   \n",
       "Zen and the Art of Motorcycle Maintenance: An I...     0.0     0.0     0.0   \n",
       "\\O\\\" Is for Outlaw\"                                    0.0     0.0     0.0   \n",
       "\n",
       "User_ID                                             16795   ...  258534  \\\n",
       "Book_Title                                                  ...           \n",
       "1984                                                   8.0  ...     0.0   \n",
       "1st to Die: A Novel                                    9.0  ...     6.0   \n",
       "2nd Chance                                             0.0  ...     0.0   \n",
       "4 Blondes                                              0.0  ...     0.0   \n",
       "84 Charing Cross Road                                  0.0  ...     0.0   \n",
       "...                                                    ...  ...     ...   \n",
       "Wizard and Glass (The Dark Tower, Book 4)              0.0  ...     0.0   \n",
       "Wuthering Heights                                      0.0  ...     0.0   \n",
       "Year of Wonders                                        0.0  ...     0.0   \n",
       "Zen and the Art of Motorcycle Maintenance: An I...     0.0  ...     0.0   \n",
       "\\O\\\" Is for Outlaw\"                                    0.0  ...     9.0   \n",
       "\n",
       "User_ID                                             261829  262998  264321  \\\n",
       "Book_Title                                                                   \n",
       "1984                                                   0.0     0.0     0.0   \n",
       "1st to Die: A Novel                                    8.0     0.0     0.0   \n",
       "2nd Chance                                             7.5     0.0     0.0   \n",
       "4 Blondes                                              0.0     0.0     5.0   \n",
       "84 Charing Cross Road                                  0.0     0.0     0.0   \n",
       "...                                                    ...     ...     ...   \n",
       "Wizard and Glass (The Dark Tower, Book 4)              0.0     0.0     0.0   \n",
       "Wuthering Heights                                      0.0     0.0     0.0   \n",
       "Year of Wonders                                        0.0     0.0     0.0   \n",
       "Zen and the Art of Motorcycle Maintenance: An I...     0.0     0.0     0.0   \n",
       "\\O\\\" Is for Outlaw\"                                    0.0     0.0     0.0   \n",
       "\n",
       "User_ID                                             265115  265889  268932  \\\n",
       "Book_Title                                                                   \n",
       "1984                                                   0.0     0.0     0.0   \n",
       "1st to Die: A Novel                                    0.0     0.0     0.0   \n",
       "2nd Chance                                             0.0     0.0     0.0   \n",
       "4 Blondes                                              0.0     0.0     0.0   \n",
       "84 Charing Cross Road                                  0.0     0.0     0.0   \n",
       "...                                                    ...     ...     ...   \n",
       "Wizard and Glass (The Dark Tower, Book 4)              0.0     0.0     0.0   \n",
       "Wuthering Heights                                      0.0     0.0     0.0   \n",
       "Year of Wonders                                        0.0     0.0     0.0   \n",
       "Zen and the Art of Motorcycle Maintenance: An I...     0.0     0.0     0.0   \n",
       "\\O\\\" Is for Outlaw\"                                    0.0     0.0     0.0   \n",
       "\n",
       "User_ID                                             269566  270713  274061  \n",
       "Book_Title                                                                  \n",
       "1984                                                   0.0     0.0     0.0  \n",
       "1st to Die: A Novel                                    0.0     0.0     0.0  \n",
       "2nd Chance                                             0.0     0.0     0.0  \n",
       "4 Blondes                                              0.0     0.0     0.0  \n",
       "84 Charing Cross Road                                  0.0     0.0     0.0  \n",
       "...                                                    ...     ...     ...  \n",
       "Wizard and Glass (The Dark Tower, Book 4)              0.0     0.0     0.0  \n",
       "Wuthering Heights                                      0.0     0.0     0.0  \n",
       "Year of Wonders                                        0.0     0.0     0.0  \n",
       "Zen and the Art of Motorcycle Maintenance: An I...     0.0     0.0     0.0  \n",
       "\\O\\\" Is for Outlaw\"                                    0.0     0.0     0.0  \n",
       "\n",
       "[625 rows x 155 columns]"
      ]
     },
     "execution_count": 97,
     "metadata": {},
     "output_type": "execute_result"
    }
   ],
   "source": [
    "pt = filtered_df.pivot_table(index='Book_Title',columns='User_ID',values='Book_Rating').fillna(0)\n",
    "pt"
   ]
  },
  {
   "cell_type": "code",
   "execution_count": 98,
   "id": "6e01fc0c",
   "metadata": {},
   "outputs": [],
   "source": [
    "df = pd.DataFrame(filtered_df)"
   ]
  },
  {
   "cell_type": "code",
   "execution_count": 99,
   "id": "fc564236",
   "metadata": {},
   "outputs": [],
   "source": [
    "df.to_csv('output_file.csv', index=False)"
   ]
  },
  {
   "cell_type": "code",
   "execution_count": null,
   "id": "bbafe00d",
   "metadata": {},
   "outputs": [],
   "source": []
  }
 ],
 "metadata": {
  "kernelspec": {
   "display_name": "Python 3 (ipykernel)",
   "language": "python",
   "name": "python3"
  },
  "language_info": {
   "codemirror_mode": {
    "name": "ipython",
    "version": 3
   },
   "file_extension": ".py",
   "mimetype": "text/x-python",
   "name": "python",
   "nbconvert_exporter": "python",
   "pygments_lexer": "ipython3",
   "version": "3.11.5"
  }
 },
 "nbformat": 4,
 "nbformat_minor": 5
}
